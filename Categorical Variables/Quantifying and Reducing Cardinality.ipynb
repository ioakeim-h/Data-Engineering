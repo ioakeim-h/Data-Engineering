{
 "cells": [
  {
   "cell_type": "markdown",
   "id": "f6e96ae9",
   "metadata": {},
   "source": [
    "## Quantifying and Reducing Cardinality\n",
    "\n",
    "Cardinality refers to the number of labels within a categorical variable. A variable like gender has low cardinality because it has only two labels: male and female. Other variables with many labels are said to have high cardinality. \n",
    "\n",
    "Things to consider when working with high cardinality:\n",
    "\n",
    "- Uneven distribution of labels between training and test sets\n",
    "\n",
    "- May result to overfitting, particularly in tree-based algorithms\n",
    "\n",
    "- Decreased model performance: high cardinality variables dominate over those with low cardinality\n",
    "\n",
    "- May lead to errors depending on how the encoder used handles unknown values in the test set."
   ]
  },
  {
   "cell_type": "code",
   "execution_count": 1,
   "id": "67d24865",
   "metadata": {},
   "outputs": [],
   "source": [
    "# Libraries\n",
    "import pandas as pd\n",
    "import numpy as np\n",
    "import matplotlib.pyplot as plt\n",
    "\n",
    "import warnings\n",
    "warnings.filterwarnings(\"ignore\")"
   ]
  },
  {
   "cell_type": "code",
   "execution_count": null,
   "id": "c57ece02",
   "metadata": {},
   "outputs": [],
   "source": [
    "# TEMPLATE\n",
    "\n",
    "# Get number of labels in categorical columns \n",
    "df[[\"Col1\", \"Col2\"]].nunique()\n",
    "\n",
    "# Identify rare labels based on % \n",
    "label_freq = df[\"col\"].value_counts() / len(df) * 100\n",
    "print(label_freq)\n",
    "\n",
    "# Visualise: red line set to 5% but can be adjusted\n",
    "fig = label_freq.sort_values(ascending=False).plot.bar()\n",
    "fig.axhline(y=5, color=\"red\")\n",
    "fig.set_ylabel(\"Percentage of occurrence per value\")\n",
    "fig.set_xlabel(\"Values in Variable_Name\")\n",
    "fig.set_title(\"Locate Rare Values\")\n",
    "plt.show()\n",
    "\n",
    "# Reduce cardinality by combining labels \n",
    "to_be_replaced = [\"value1\", \"value2\"]\n",
    "df[\"col\"].replace(dict.fromkeys(to_be_replaced, \"new value\"), inplace=True)"
   ]
  },
  {
   "cell_type": "markdown",
   "id": "57bf73d5",
   "metadata": {},
   "source": [
    "### Let's see the process in action\n",
    "\n",
    "We will use the titanic dataframe from kaggle and focus on the \"Cabin\" variable."
   ]
  },
  {
   "cell_type": "code",
   "execution_count": 2,
   "id": "51636ca1",
   "metadata": {},
   "outputs": [
    {
     "data": {
      "text/plain": [
       "0     NaN\n",
       "1     C85\n",
       "2     NaN\n",
       "3    C123\n",
       "4     NaN\n",
       "Name: Cabin, dtype: object"
      ]
     },
     "execution_count": 2,
     "metadata": {},
     "output_type": "execute_result"
    }
   ],
   "source": [
    "# Import titanic df from kaggle\n",
    "titanic_df = pd.read_csv(\"...\")\n",
    "titanic_df[\"Cabin\"].head()"
   ]
  },
  {
   "cell_type": "code",
   "execution_count": 3,
   "id": "dded22a5",
   "metadata": {},
   "outputs": [
    {
     "data": {
      "text/plain": [
       "147"
      ]
     },
     "execution_count": 3,
     "metadata": {},
     "output_type": "execute_result"
    }
   ],
   "source": [
    "# Quantify cardinality \n",
    "titanic_df[\"Cabin\"].nunique()"
   ]
  },
  {
   "cell_type": "markdown",
   "id": "dfcc76d2",
   "metadata": {},
   "source": [
    "How we deal with high cardinality depends on the data. \n",
    "Often, we combine rare labels together, but this time we can also remove the cabin number which will make a huge difference."
   ]
  },
  {
   "cell_type": "code",
   "execution_count": 4,
   "id": "02752678",
   "metadata": {},
   "outputs": [
    {
     "data": {
      "text/plain": [
       "C          51\n",
       "B          36\n",
       "E          32\n",
       "D          32\n",
       "A          15\n",
       "F           9\n",
       "B B         7\n",
       "G           4\n",
       "C C C       4\n",
       "C C         4\n",
       "F G         3\n",
       "B B B B     2\n",
       "B B B       2\n",
       "D D         1\n",
       "F E         1\n",
       "T           1\n",
       "Name: Cabin, dtype: int64"
      ]
     },
     "execution_count": 4,
     "metadata": {},
     "output_type": "execute_result"
    }
   ],
   "source": [
    "# Reduce cardinality by removing digits\n",
    "titanic_df['Cabin'] = titanic_df['Cabin'].str.replace('\\d+', '')\n",
    "titanic_df['Cabin'].value_counts()"
   ]
  },
  {
   "cell_type": "code",
   "execution_count": 5,
   "id": "51aed332",
   "metadata": {},
   "outputs": [
    {
     "data": {
      "text/plain": [
       "C    59\n",
       "B    47\n",
       "D    33\n",
       "E    32\n",
       "A    15\n",
       "F    13\n",
       "G     4\n",
       "T     1\n",
       "Name: Cabin, dtype: int64"
      ]
     },
     "execution_count": 5,
     "metadata": {},
     "output_type": "execute_result"
    }
   ],
   "source": [
    "# Fix errors: replace values by first occuring letter\n",
    "cabin_errors = titanic_df.Cabin[titanic_df[\"Cabin\"].str.contains(r\"\\D.+\", regex = True) == True]\n",
    "\n",
    "for index in cabin_errors.index:\n",
    "    titanic_df.loc[index, \"Cabin\"] = titanic_df.loc[index, \"Cabin\"][0]\n",
    "    \n",
    "titanic_df['Cabin'].value_counts()"
   ]
  },
  {
   "cell_type": "code",
   "execution_count": 6,
   "id": "4f61cfa7",
   "metadata": {},
   "outputs": [
    {
     "name": "stdout",
     "output_type": "stream",
     "text": [
      "C    6.621773\n",
      "B    5.274972\n",
      "D    3.703704\n",
      "E    3.591470\n",
      "A    1.683502\n",
      "F    1.459035\n",
      "G    0.448934\n",
      "T    0.112233\n",
      "Name: Cabin, dtype: float64\n"
     ]
    }
   ],
   "source": [
    "# Go even further, identify rare labels based on %\n",
    "label_freq = titanic_df[\"Cabin\"].value_counts() / len(titanic_df) * 100\n",
    "print(label_freq)"
   ]
  },
  {
   "cell_type": "code",
   "execution_count": 7,
   "id": "be6a9586",
   "metadata": {},
   "outputs": [
    {
     "data": {
      "image/png": "[encoded data removed]",
      "text/plain": [
       "<Figure size 432x288 with 1 Axes>"
      ]
     },
     "metadata": {
      "needs_background": "light"
     },
     "output_type": "display_data"
    }
   ],
   "source": [
    "# Visualise: red line set to 3%\n",
    "fig = label_freq.sort_values(ascending=False).plot.bar()\n",
    "fig.axhline(y=3, color=\"red\")\n",
    "fig.set_ylabel(\"Percentage of occurrence per value\")\n",
    "fig.set_xlabel(\"Values in Variable_Name\")\n",
    "fig.set_title(\"Locate Rare Values\")\n",
    "plt.show()"
   ]
  },
  {
   "cell_type": "code",
   "execution_count": 8,
   "id": "05811ae3",
   "metadata": {},
   "outputs": [
    {
     "data": {
      "text/plain": [
       "C        59\n",
       "B        47\n",
       "Other    33\n",
       "D        33\n",
       "E        32\n",
       "Name: Cabin, dtype: int64"
      ]
     },
     "execution_count": 8,
     "metadata": {},
     "output_type": "execute_result"
    }
   ],
   "source": [
    "# Reduce cardinality by combining rare labels\n",
    "to_be_replaced = [\"T\", \"G\", \"F\", \"A\"]\n",
    "titanic_df[\"Cabin\"].replace(dict.fromkeys(to_be_replaced, \"Other\"), inplace=True)\n",
    "titanic_df[\"Cabin\"].value_counts()"
   ]
  }
 ],
 "metadata": {
  "kernelspec": {
   "display_name": "Python 3 (ipykernel)",
   "language": "python",
   "name": "python3"
  },
  "language_info": {
   "codemirror_mode": {
    "name": "ipython",
    "version": 3
   },
   "file_extension": ".py",
   "mimetype": "text/x-python",
   "name": "python",
   "nbconvert_exporter": "python",
   "pygments_lexer": "ipython3",
   "version": "3.9.12"
  }
 },
 "nbformat": 4,
 "nbformat_minor": 5
}
