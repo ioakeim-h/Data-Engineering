{
 "cells": [
  {
   "cell_type": "markdown",
   "id": "9e64790a",
   "metadata": {},
   "source": [
    "# <center> Testing on Titanic Dataset </center>"
   ]
  },
  {
   "cell_type": "code",
   "execution_count": 1,
   "id": "fa2f63e7",
   "metadata": {},
   "outputs": [],
   "source": [
    "# Basic libraries\n",
    "import pandas as pd\n",
    "import numpy as np\n",
    "import pickle\n",
    "import warnings\n",
    "warnings.filterwarnings('ignore')\n",
    "\n",
    "# datawig\n",
    "import datawig"
   ]
  },
  {
   "cell_type": "code",
   "execution_count": 2,
   "id": "45db7c29",
   "metadata": {},
   "outputs": [
    {
     "data": {
      "text/html": [
       "<div>\n",
       "<style scoped>\n",
       "    .dataframe tbody tr th:only-of-type {\n",
       "        vertical-align: middle;\n",
       "    }\n",
       "\n",
       "    .dataframe tbody tr th {\n",
       "        vertical-align: top;\n",
       "    }\n",
       "\n",
       "    .dataframe thead th {\n",
       "        text-align: right;\n",
       "    }\n",
       "</style>\n",
       "<table border=\"1\" class=\"dataframe\">\n",
       "  <thead>\n",
       "    <tr style=\"text-align: right;\">\n",
       "      <th></th>\n",
       "      <th>Survived</th>\n",
       "      <th>Pclass</th>\n",
       "      <th>Name</th>\n",
       "      <th>Sex</th>\n",
       "      <th>Age</th>\n",
       "      <th>SibSp</th>\n",
       "      <th>Parch</th>\n",
       "      <th>Ticket</th>\n",
       "      <th>Fare</th>\n",
       "      <th>Cabin</th>\n",
       "      <th>Embarked</th>\n",
       "    </tr>\n",
       "    <tr>\n",
       "      <th>PassengerId</th>\n",
       "      <th></th>\n",
       "      <th></th>\n",
       "      <th></th>\n",
       "      <th></th>\n",
       "      <th></th>\n",
       "      <th></th>\n",
       "      <th></th>\n",
       "      <th></th>\n",
       "      <th></th>\n",
       "      <th></th>\n",
       "      <th></th>\n",
       "    </tr>\n",
       "  </thead>\n",
       "  <tbody>\n",
       "    <tr>\n",
       "      <th>1</th>\n",
       "      <td>0</td>\n",
       "      <td>3</td>\n",
       "      <td>Braund, Mr. Owen Harris</td>\n",
       "      <td>male</td>\n",
       "      <td>22.0</td>\n",
       "      <td>1</td>\n",
       "      <td>0</td>\n",
       "      <td>A/5 21171</td>\n",
       "      <td>7.2500</td>\n",
       "      <td>NaN</td>\n",
       "      <td>S</td>\n",
       "    </tr>\n",
       "    <tr>\n",
       "      <th>2</th>\n",
       "      <td>1</td>\n",
       "      <td>1</td>\n",
       "      <td>Cumings, Mrs. John Bradley (Florence Briggs Th...</td>\n",
       "      <td>female</td>\n",
       "      <td>38.0</td>\n",
       "      <td>1</td>\n",
       "      <td>0</td>\n",
       "      <td>PC 17599</td>\n",
       "      <td>71.2833</td>\n",
       "      <td>C</td>\n",
       "      <td>C</td>\n",
       "    </tr>\n",
       "    <tr>\n",
       "      <th>3</th>\n",
       "      <td>1</td>\n",
       "      <td>3</td>\n",
       "      <td>Heikkinen, Miss. Laina</td>\n",
       "      <td>female</td>\n",
       "      <td>26.0</td>\n",
       "      <td>0</td>\n",
       "      <td>0</td>\n",
       "      <td>STON/O2. 3101282</td>\n",
       "      <td>7.9250</td>\n",
       "      <td>NaN</td>\n",
       "      <td>S</td>\n",
       "    </tr>\n",
       "    <tr>\n",
       "      <th>4</th>\n",
       "      <td>1</td>\n",
       "      <td>1</td>\n",
       "      <td>Futrelle, Mrs. Jacques Heath (Lily May Peel)</td>\n",
       "      <td>female</td>\n",
       "      <td>35.0</td>\n",
       "      <td>1</td>\n",
       "      <td>0</td>\n",
       "      <td>113803</td>\n",
       "      <td>53.1000</td>\n",
       "      <td>C</td>\n",
       "      <td>S</td>\n",
       "    </tr>\n",
       "    <tr>\n",
       "      <th>5</th>\n",
       "      <td>0</td>\n",
       "      <td>3</td>\n",
       "      <td>Allen, Mr. William Henry</td>\n",
       "      <td>male</td>\n",
       "      <td>35.0</td>\n",
       "      <td>0</td>\n",
       "      <td>0</td>\n",
       "      <td>373450</td>\n",
       "      <td>8.0500</td>\n",
       "      <td>NaN</td>\n",
       "      <td>S</td>\n",
       "    </tr>\n",
       "  </tbody>\n",
       "</table>\n",
       "</div>"
      ],
      "text/plain": [
       "            Survived Pclass  \\\n",
       "PassengerId                   \n",
       "1                  0      3   \n",
       "2                  1      1   \n",
       "3                  1      3   \n",
       "4                  1      1   \n",
       "5                  0      3   \n",
       "\n",
       "                                                          Name     Sex   Age  \\\n",
       "PassengerId                                                                    \n",
       "1                                      Braund, Mr. Owen Harris    male  22.0   \n",
       "2            Cumings, Mrs. John Bradley (Florence Briggs Th...  female  38.0   \n",
       "3                                       Heikkinen, Miss. Laina  female  26.0   \n",
       "4                 Futrelle, Mrs. Jacques Heath (Lily May Peel)  female  35.0   \n",
       "5                                     Allen, Mr. William Henry    male  35.0   \n",
       "\n",
       "             SibSp  Parch            Ticket     Fare Cabin Embarked  \n",
       "PassengerId                                                          \n",
       "1                1      0         A/5 21171   7.2500   NaN        S  \n",
       "2                1      0          PC 17599  71.2833     C        C  \n",
       "3                0      0  STON/O2. 3101282   7.9250   NaN        S  \n",
       "4                1      0            113803  53.1000     C        S  \n",
       "5                0      0            373450   8.0500   NaN        S  "
      ]
     },
     "execution_count": 2,
     "metadata": {},
     "output_type": "execute_result"
    }
   ],
   "source": [
    "# Import data\n",
    "df = pickle.load(open(\"titanic_df.p\",\"rb\"))\n",
    "df.head()"
   ]
  },
  {
   "cell_type": "code",
   "execution_count": 3,
   "id": "8239d4b5",
   "metadata": {},
   "outputs": [
    {
     "name": "stdout",
     "output_type": "stream",
     "text": [
      "<class 'pandas.core.frame.DataFrame'>\n",
      "Int64Index: 891 entries, 1 to 891\n",
      "Data columns (total 11 columns):\n",
      " #   Column    Non-Null Count  Dtype   \n",
      "---  ------    --------------  -----   \n",
      " 0   Survived  891 non-null    category\n",
      " 1   Pclass    891 non-null    category\n",
      " 2   Name      891 non-null    object  \n",
      " 3   Sex       891 non-null    category\n",
      " 4   Age       714 non-null    float64 \n",
      " 5   SibSp     891 non-null    int64   \n",
      " 6   Parch     891 non-null    int64   \n",
      " 7   Ticket    891 non-null    object  \n",
      " 8   Fare      891 non-null    float64 \n",
      " 9   Cabin     204 non-null    object  \n",
      " 10  Embarked  889 non-null    category\n",
      "dtypes: category(4), float64(2), int64(2), object(3)\n",
      "memory usage: 59.6+ KB\n"
     ]
    }
   ],
   "source": [
    "df.info()"
   ]
  },
  {
   "cell_type": "code",
   "execution_count": 4,
   "id": "e6b6a191",
   "metadata": {
    "scrolled": true
   },
   "outputs": [
    {
     "data": {
      "text/plain": [
       "Survived      0\n",
       "Pclass        0\n",
       "Name          0\n",
       "Sex           0\n",
       "Age         177\n",
       "SibSp         0\n",
       "Parch         0\n",
       "Ticket        0\n",
       "Fare          0\n",
       "Cabin       687\n",
       "Embarked      2\n",
       "dtype: int64"
      ]
     },
     "execution_count": 4,
     "metadata": {},
     "output_type": "execute_result"
    }
   ],
   "source": [
    "df.isna().sum()"
   ]
  },
  {
   "cell_type": "code",
   "execution_count": 5,
   "id": "58af7c27",
   "metadata": {},
   "outputs": [
    {
     "name": "stderr",
     "output_type": "stream",
     "text": [
      "2022-08-05 20:37:11,468 [INFO]  Note: NumExpr detected 12 cores but \"NUMEXPR_MAX_THREADS\" not set, so enforcing safe limit of 8.\n",
      "2022-08-05 20:37:11,468 [INFO]  NumExpr defaulting to 8 threads.\n"
     ]
    },
    {
     "data": {
      "text/plain": [
       "Survived     0.000000\n",
       "Pclass       0.000000\n",
       "Name         0.000000\n",
       "Sex          0.000000\n",
       "Age         19.865320\n",
       "SibSp        0.000000\n",
       "Parch        0.000000\n",
       "Ticket       0.000000\n",
       "Fare         0.000000\n",
       "Cabin       77.104377\n",
       "Embarked     0.224467\n",
       "dtype: float64"
      ]
     },
     "execution_count": 5,
     "metadata": {},
     "output_type": "execute_result"
    }
   ],
   "source": [
    "# Percentage of missingness per column\n",
    "df.isna().sum()/len(df)*100"
   ]
  },
  {
   "cell_type": "markdown",
   "id": "ffe9be4a",
   "metadata": {},
   "source": [
    "# Testing SimpleImputer.complete() function"
   ]
  },
  {
   "cell_type": "markdown",
   "id": "8c1c473c",
   "metadata": {},
   "source": [
    "### Test 1\n",
    "Running the `SimpleImputer.complete()` function on current data types returns an error."
   ]
  },
  {
   "cell_type": "code",
   "execution_count": 6,
   "id": "a6c2af49",
   "metadata": {},
   "outputs": [
    {
     "ename": "ValueError",
     "evalue": "fill value must be in categories",
     "output_type": "error",
     "traceback": [
      "\u001b[0;31m---------------------------------------------------------------------------\u001b[0m",
      "\u001b[0;31mValueError\u001b[0m                                Traceback (most recent call last)",
      "\u001b[0;32m<ipython-input-6-b0d064c4ff2f>\u001b[0m in \u001b[0;36m<module>\u001b[0;34m\u001b[0m\n\u001b[1;32m      1\u001b[0m \u001b[0;31m# Returns error\u001b[0m\u001b[0;34m\u001b[0m\u001b[0;34m\u001b[0m\u001b[0;34m\u001b[0m\u001b[0m\n\u001b[0;32m----> 2\u001b[0;31m \u001b[0mdf_complete\u001b[0m \u001b[0;34m=\u001b[0m \u001b[0mdatawig\u001b[0m\u001b[0;34m.\u001b[0m\u001b[0mSimpleImputer\u001b[0m\u001b[0;34m.\u001b[0m\u001b[0mcomplete\u001b[0m\u001b[0;34m(\u001b[0m\u001b[0mdf\u001b[0m\u001b[0;34m,\u001b[0m \u001b[0mprecision_threshold\u001b[0m \u001b[0;34m=\u001b[0m \u001b[0;36m0.0\u001b[0m\u001b[0;34m)\u001b[0m\u001b[0;34m\u001b[0m\u001b[0;34m\u001b[0m\u001b[0m\n\u001b[0m\u001b[1;32m      3\u001b[0m \u001b[0mdf_complete\u001b[0m\u001b[0;34m.\u001b[0m\u001b[0misna\u001b[0m\u001b[0;34m(\u001b[0m\u001b[0;34m)\u001b[0m\u001b[0;34m.\u001b[0m\u001b[0msum\u001b[0m\u001b[0;34m(\u001b[0m\u001b[0;34m)\u001b[0m\u001b[0;34m\u001b[0m\u001b[0;34m\u001b[0m\u001b[0m\n",
      "\u001b[0;32m~/anaconda3/envs/venvPy3.7/lib/python3.7/site-packages/datawig/simple_imputer.py\u001b[0m in \u001b[0;36mcomplete\u001b[0;34m(data_frame, precision_threshold, inplace, hpo, verbose, num_epochs, iterations, output_path)\u001b[0m\n\u001b[1;32m    525\u001b[0m                                 \u001b[0mpatience\u001b[0m\u001b[0;34m=\u001b[0m\u001b[0;36m5\u001b[0m \u001b[0;32mif\u001b[0m \u001b[0moutput_col\u001b[0m \u001b[0;32min\u001b[0m \u001b[0mcategorical_columns\u001b[0m \u001b[0;32melse\u001b[0m \u001b[0;36m20\u001b[0m\u001b[0;34m,\u001b[0m\u001b[0;34m\u001b[0m\u001b[0;34m\u001b[0m\u001b[0m\n\u001b[1;32m    526\u001b[0m                                 \u001b[0mnum_epochs\u001b[0m\u001b[0;34m=\u001b[0m\u001b[0mnum_epochs\u001b[0m\u001b[0;34m,\u001b[0m\u001b[0;34m\u001b[0m\u001b[0;34m\u001b[0m\u001b[0m\n\u001b[0;32m--> 527\u001b[0;31m                                 calibrate=False)\n\u001b[0m\u001b[1;32m    528\u001b[0m \u001b[0;34m\u001b[0m\u001b[0m\n\u001b[1;32m    529\u001b[0m                 \u001b[0mtmp\u001b[0m \u001b[0;34m=\u001b[0m \u001b[0mimputer\u001b[0m\u001b[0;34m.\u001b[0m\u001b[0mpredict\u001b[0m\u001b[0;34m(\u001b[0m\u001b[0mdata_frame\u001b[0m\u001b[0;34m,\u001b[0m \u001b[0mprecision_threshold\u001b[0m\u001b[0;34m=\u001b[0m\u001b[0mprecision_threshold\u001b[0m\u001b[0;34m)\u001b[0m\u001b[0;34m\u001b[0m\u001b[0;34m\u001b[0m\u001b[0m\n",
      "\u001b[0;32m~/anaconda3/envs/venvPy3.7/lib/python3.7/site-packages/datawig/simple_imputer.py\u001b[0m in \u001b[0;36mfit\u001b[0;34m(self, train_df, test_df, ctx, learning_rate, num_epochs, patience, test_split, weight_decay, batch_size, final_fc_hidden_units, calibrate, class_weights, instance_weights)\u001b[0m\n\u001b[1;32m    388\u001b[0m                                         \u001b[0mweight_decay\u001b[0m\u001b[0;34m,\u001b[0m \u001b[0mbatch_size\u001b[0m\u001b[0;34m,\u001b[0m\u001b[0;34m\u001b[0m\u001b[0;34m\u001b[0m\u001b[0m\n\u001b[1;32m    389\u001b[0m                                         \u001b[0mfinal_fc_hidden_units\u001b[0m\u001b[0;34m=\u001b[0m\u001b[0mfinal_fc_hidden_units\u001b[0m\u001b[0;34m,\u001b[0m\u001b[0;34m\u001b[0m\u001b[0;34m\u001b[0m\u001b[0m\n\u001b[0;32m--> 390\u001b[0;31m                                         calibrate=calibrate)\n\u001b[0m\u001b[1;32m    391\u001b[0m         \u001b[0mself\u001b[0m\u001b[0;34m.\u001b[0m\u001b[0msave\u001b[0m\u001b[0;34m(\u001b[0m\u001b[0;34m)\u001b[0m\u001b[0;34m\u001b[0m\u001b[0;34m\u001b[0m\u001b[0m\n\u001b[1;32m    392\u001b[0m \u001b[0;34m\u001b[0m\u001b[0m\n",
      "\u001b[0;32m~/anaconda3/envs/venvPy3.7/lib/python3.7/site-packages/datawig/imputer.py\u001b[0m in \u001b[0;36mfit\u001b[0;34m(self, train_df, test_df, ctx, learning_rate, num_epochs, patience, test_split, weight_decay, batch_size, final_fc_hidden_units, calibrate)\u001b[0m\n\u001b[1;32m    261\u001b[0m             \u001b[0mtrain_df\u001b[0m\u001b[0;34m,\u001b[0m \u001b[0mtest_df\u001b[0m \u001b[0;34m=\u001b[0m \u001b[0mrandom_split\u001b[0m\u001b[0;34m(\u001b[0m\u001b[0mtrain_df\u001b[0m\u001b[0;34m,\u001b[0m \u001b[0;34m[\u001b[0m\u001b[0;36m1.0\u001b[0m \u001b[0;34m-\u001b[0m \u001b[0mtest_split\u001b[0m\u001b[0;34m,\u001b[0m \u001b[0mtest_split\u001b[0m\u001b[0;34m]\u001b[0m\u001b[0;34m)\u001b[0m\u001b[0;34m\u001b[0m\u001b[0;34m\u001b[0m\u001b[0m\n\u001b[1;32m    262\u001b[0m \u001b[0;34m\u001b[0m\u001b[0m\n\u001b[0;32m--> 263\u001b[0;31m         \u001b[0miter_train\u001b[0m\u001b[0;34m,\u001b[0m \u001b[0miter_test\u001b[0m \u001b[0;34m=\u001b[0m \u001b[0mself\u001b[0m\u001b[0;34m.\u001b[0m\u001b[0m__build_iterators\u001b[0m\u001b[0;34m(\u001b[0m\u001b[0mtrain_df\u001b[0m\u001b[0;34m,\u001b[0m \u001b[0mtest_df\u001b[0m\u001b[0;34m,\u001b[0m \u001b[0mtest_split\u001b[0m\u001b[0;34m)\u001b[0m\u001b[0;34m\u001b[0m\u001b[0;34m\u001b[0m\u001b[0m\n\u001b[0m\u001b[1;32m    264\u001b[0m \u001b[0;34m\u001b[0m\u001b[0m\n\u001b[1;32m    265\u001b[0m         \u001b[0mself\u001b[0m\u001b[0;34m.\u001b[0m\u001b[0m__check_data\u001b[0m\u001b[0;34m(\u001b[0m\u001b[0mtest_df\u001b[0m\u001b[0;34m)\u001b[0m\u001b[0;34m\u001b[0m\u001b[0;34m\u001b[0m\u001b[0m\n",
      "\u001b[0;32m~/anaconda3/envs/venvPy3.7/lib/python3.7/site-packages/datawig/imputer.py\u001b[0m in \u001b[0;36m__build_iterators\u001b[0;34m(self, train_df, test_df, test_split)\u001b[0m\n\u001b[1;32m    594\u001b[0m             \u001b[0mdata_columns\u001b[0m\u001b[0;34m=\u001b[0m\u001b[0mself\u001b[0m\u001b[0;34m.\u001b[0m\u001b[0mdata_encoders\u001b[0m\u001b[0;34m,\u001b[0m\u001b[0;34m\u001b[0m\u001b[0;34m\u001b[0m\u001b[0m\n\u001b[1;32m    595\u001b[0m             \u001b[0mlabel_columns\u001b[0m\u001b[0;34m=\u001b[0m\u001b[0mself\u001b[0m\u001b[0;34m.\u001b[0m\u001b[0mlabel_encoders\u001b[0m\u001b[0;34m,\u001b[0m\u001b[0;34m\u001b[0m\u001b[0;34m\u001b[0m\u001b[0m\n\u001b[0;32m--> 596\u001b[0;31m             \u001b[0mbatch_size\u001b[0m\u001b[0;34m=\u001b[0m\u001b[0mself\u001b[0m\u001b[0;34m.\u001b[0m\u001b[0mbatch_size\u001b[0m\u001b[0;34m\u001b[0m\u001b[0;34m\u001b[0m\u001b[0m\n\u001b[0m\u001b[1;32m    597\u001b[0m         )\n\u001b[1;32m    598\u001b[0m \u001b[0;34m\u001b[0m\u001b[0m\n",
      "\u001b[0;32m~/anaconda3/envs/venvPy3.7/lib/python3.7/site-packages/datawig/iterators.py\u001b[0m in \u001b[0;36m__init__\u001b[0;34m(self, data_frame, data_columns, label_columns, batch_size)\u001b[0m\n\u001b[1;32m    221\u001b[0m         \u001b[0mnumerical_columns\u001b[0m \u001b[0;34m=\u001b[0m \u001b[0;34m[\u001b[0m\u001b[0mc\u001b[0m \u001b[0;32mfor\u001b[0m \u001b[0mc\u001b[0m \u001b[0;32min\u001b[0m \u001b[0mdata_frame\u001b[0m\u001b[0;34m.\u001b[0m\u001b[0mcolumns\u001b[0m \u001b[0;32mif\u001b[0m \u001b[0mis_numeric_dtype\u001b[0m\u001b[0;34m(\u001b[0m\u001b[0mdata_frame\u001b[0m\u001b[0;34m[\u001b[0m\u001b[0mc\u001b[0m\u001b[0;34m]\u001b[0m\u001b[0;34m)\u001b[0m\u001b[0;34m]\u001b[0m\u001b[0;34m\u001b[0m\u001b[0;34m\u001b[0m\u001b[0m\n\u001b[1;32m    222\u001b[0m         \u001b[0mstring_columns\u001b[0m \u001b[0;34m=\u001b[0m \u001b[0mlist\u001b[0m\u001b[0;34m(\u001b[0m\u001b[0mset\u001b[0m\u001b[0;34m(\u001b[0m\u001b[0mdata_frame\u001b[0m\u001b[0;34m.\u001b[0m\u001b[0mcolumns\u001b[0m\u001b[0;34m)\u001b[0m \u001b[0;34m-\u001b[0m \u001b[0mset\u001b[0m\u001b[0;34m(\u001b[0m\u001b[0mnumerical_columns\u001b[0m\u001b[0;34m)\u001b[0m\u001b[0;34m)\u001b[0m\u001b[0;34m\u001b[0m\u001b[0;34m\u001b[0m\u001b[0m\n\u001b[0;32m--> 223\u001b[0;31m         \u001b[0mdata_frame\u001b[0m \u001b[0;34m=\u001b[0m \u001b[0mdata_frame\u001b[0m\u001b[0;34m.\u001b[0m\u001b[0mfillna\u001b[0m\u001b[0;34m(\u001b[0m\u001b[0mvalue\u001b[0m\u001b[0;34m=\u001b[0m\u001b[0;34m{\u001b[0m\u001b[0mx\u001b[0m\u001b[0;34m:\u001b[0m \u001b[0;34m\"\"\u001b[0m \u001b[0;32mfor\u001b[0m \u001b[0mx\u001b[0m \u001b[0;32min\u001b[0m \u001b[0mstring_columns\u001b[0m\u001b[0;34m}\u001b[0m\u001b[0;34m)\u001b[0m\u001b[0;34m\u001b[0m\u001b[0;34m\u001b[0m\u001b[0m\n\u001b[0m\u001b[1;32m    224\u001b[0m         \u001b[0mdata_frame\u001b[0m \u001b[0;34m=\u001b[0m \u001b[0mdata_frame\u001b[0m\u001b[0;34m.\u001b[0m\u001b[0mfillna\u001b[0m\u001b[0;34m(\u001b[0m\u001b[0mvalue\u001b[0m\u001b[0;34m=\u001b[0m\u001b[0;34m{\u001b[0m\u001b[0mx\u001b[0m\u001b[0;34m:\u001b[0m \u001b[0mnp\u001b[0m\u001b[0;34m.\u001b[0m\u001b[0mnan\u001b[0m \u001b[0;32mfor\u001b[0m \u001b[0mx\u001b[0m \u001b[0;32min\u001b[0m \u001b[0mnumerical_columns\u001b[0m\u001b[0;34m}\u001b[0m\u001b[0;34m)\u001b[0m\u001b[0;34m\u001b[0m\u001b[0;34m\u001b[0m\u001b[0m\n\u001b[1;32m    225\u001b[0m \u001b[0;34m\u001b[0m\u001b[0m\n",
      "\u001b[0;32m~/anaconda3/envs/venvPy3.7/lib/python3.7/site-packages/pandas/core/frame.py\u001b[0m in \u001b[0;36mfillna\u001b[0;34m(self, value, method, axis, inplace, limit, downcast)\u001b[0m\n\u001b[1;32m   4151\u001b[0m             \u001b[0minplace\u001b[0m\u001b[0;34m=\u001b[0m\u001b[0minplace\u001b[0m\u001b[0;34m,\u001b[0m\u001b[0;34m\u001b[0m\u001b[0;34m\u001b[0m\u001b[0m\n\u001b[1;32m   4152\u001b[0m             \u001b[0mlimit\u001b[0m\u001b[0;34m=\u001b[0m\u001b[0mlimit\u001b[0m\u001b[0;34m,\u001b[0m\u001b[0;34m\u001b[0m\u001b[0;34m\u001b[0m\u001b[0m\n\u001b[0;32m-> 4153\u001b[0;31m             \u001b[0mdowncast\u001b[0m\u001b[0;34m=\u001b[0m\u001b[0mdowncast\u001b[0m\u001b[0;34m,\u001b[0m\u001b[0;34m\u001b[0m\u001b[0;34m\u001b[0m\u001b[0m\n\u001b[0m\u001b[1;32m   4154\u001b[0m         )\n\u001b[1;32m   4155\u001b[0m \u001b[0;34m\u001b[0m\u001b[0m\n",
      "\u001b[0;32m~/anaconda3/envs/venvPy3.7/lib/python3.7/site-packages/pandas/core/generic.py\u001b[0m in \u001b[0;36mfillna\u001b[0;34m(self, value, method, axis, inplace, limit, downcast)\u001b[0m\n\u001b[1;32m   6230\u001b[0m                         \u001b[0;32mcontinue\u001b[0m\u001b[0;34m\u001b[0m\u001b[0;34m\u001b[0m\u001b[0m\n\u001b[1;32m   6231\u001b[0m                     \u001b[0mobj\u001b[0m \u001b[0;34m=\u001b[0m \u001b[0mresult\u001b[0m\u001b[0;34m[\u001b[0m\u001b[0mk\u001b[0m\u001b[0;34m]\u001b[0m\u001b[0;34m\u001b[0m\u001b[0;34m\u001b[0m\u001b[0m\n\u001b[0;32m-> 6232\u001b[0;31m                     \u001b[0mobj\u001b[0m\u001b[0;34m.\u001b[0m\u001b[0mfillna\u001b[0m\u001b[0;34m(\u001b[0m\u001b[0mv\u001b[0m\u001b[0;34m,\u001b[0m \u001b[0mlimit\u001b[0m\u001b[0;34m=\u001b[0m\u001b[0mlimit\u001b[0m\u001b[0;34m,\u001b[0m \u001b[0minplace\u001b[0m\u001b[0;34m=\u001b[0m\u001b[0;32mTrue\u001b[0m\u001b[0;34m,\u001b[0m \u001b[0mdowncast\u001b[0m\u001b[0;34m=\u001b[0m\u001b[0mdowncast\u001b[0m\u001b[0;34m)\u001b[0m\u001b[0;34m\u001b[0m\u001b[0;34m\u001b[0m\u001b[0m\n\u001b[0m\u001b[1;32m   6233\u001b[0m                 \u001b[0;32mreturn\u001b[0m \u001b[0mresult\u001b[0m \u001b[0;32mif\u001b[0m \u001b[0;32mnot\u001b[0m \u001b[0minplace\u001b[0m \u001b[0;32melse\u001b[0m \u001b[0;32mNone\u001b[0m\u001b[0;34m\u001b[0m\u001b[0;34m\u001b[0m\u001b[0m\n\u001b[1;32m   6234\u001b[0m \u001b[0;34m\u001b[0m\u001b[0m\n",
      "\u001b[0;32m~/anaconda3/envs/venvPy3.7/lib/python3.7/site-packages/pandas/core/series.py\u001b[0m in \u001b[0;36mfillna\u001b[0;34m(self, value, method, axis, inplace, limit, downcast)\u001b[0m\n\u001b[1;32m   4157\u001b[0m             \u001b[0minplace\u001b[0m\u001b[0;34m=\u001b[0m\u001b[0minplace\u001b[0m\u001b[0;34m,\u001b[0m\u001b[0;34m\u001b[0m\u001b[0;34m\u001b[0m\u001b[0m\n\u001b[1;32m   4158\u001b[0m             \u001b[0mlimit\u001b[0m\u001b[0;34m=\u001b[0m\u001b[0mlimit\u001b[0m\u001b[0;34m,\u001b[0m\u001b[0;34m\u001b[0m\u001b[0;34m\u001b[0m\u001b[0m\n\u001b[0;32m-> 4159\u001b[0;31m             \u001b[0mdowncast\u001b[0m\u001b[0;34m=\u001b[0m\u001b[0mdowncast\u001b[0m\u001b[0;34m,\u001b[0m\u001b[0;34m\u001b[0m\u001b[0;34m\u001b[0m\u001b[0m\n\u001b[0m\u001b[1;32m   4160\u001b[0m         )\n\u001b[1;32m   4161\u001b[0m \u001b[0;34m\u001b[0m\u001b[0m\n",
      "\u001b[0;32m~/anaconda3/envs/venvPy3.7/lib/python3.7/site-packages/pandas/core/generic.py\u001b[0m in \u001b[0;36mfillna\u001b[0;34m(self, value, method, axis, inplace, limit, downcast)\u001b[0m\n\u001b[1;32m   6214\u001b[0m \u001b[0;34m\u001b[0m\u001b[0m\n\u001b[1;32m   6215\u001b[0m                 new_data = self._data.fillna(\n\u001b[0;32m-> 6216\u001b[0;31m                     \u001b[0mvalue\u001b[0m\u001b[0;34m=\u001b[0m\u001b[0mvalue\u001b[0m\u001b[0;34m,\u001b[0m \u001b[0mlimit\u001b[0m\u001b[0;34m=\u001b[0m\u001b[0mlimit\u001b[0m\u001b[0;34m,\u001b[0m \u001b[0minplace\u001b[0m\u001b[0;34m=\u001b[0m\u001b[0minplace\u001b[0m\u001b[0;34m,\u001b[0m \u001b[0mdowncast\u001b[0m\u001b[0;34m=\u001b[0m\u001b[0mdowncast\u001b[0m\u001b[0;34m\u001b[0m\u001b[0;34m\u001b[0m\u001b[0m\n\u001b[0m\u001b[1;32m   6217\u001b[0m                 )\n\u001b[1;32m   6218\u001b[0m \u001b[0;34m\u001b[0m\u001b[0m\n",
      "\u001b[0;32m~/anaconda3/envs/venvPy3.7/lib/python3.7/site-packages/pandas/core/internals/managers.py\u001b[0m in \u001b[0;36mfillna\u001b[0;34m(self, **kwargs)\u001b[0m\n\u001b[1;32m    574\u001b[0m \u001b[0;34m\u001b[0m\u001b[0m\n\u001b[1;32m    575\u001b[0m     \u001b[0;32mdef\u001b[0m \u001b[0mfillna\u001b[0m\u001b[0;34m(\u001b[0m\u001b[0mself\u001b[0m\u001b[0;34m,\u001b[0m \u001b[0;34m**\u001b[0m\u001b[0mkwargs\u001b[0m\u001b[0;34m)\u001b[0m\u001b[0;34m:\u001b[0m\u001b[0;34m\u001b[0m\u001b[0;34m\u001b[0m\u001b[0m\n\u001b[0;32m--> 576\u001b[0;31m         \u001b[0;32mreturn\u001b[0m \u001b[0mself\u001b[0m\u001b[0;34m.\u001b[0m\u001b[0mapply\u001b[0m\u001b[0;34m(\u001b[0m\u001b[0;34m\"fillna\"\u001b[0m\u001b[0;34m,\u001b[0m \u001b[0;34m**\u001b[0m\u001b[0mkwargs\u001b[0m\u001b[0;34m)\u001b[0m\u001b[0;34m\u001b[0m\u001b[0;34m\u001b[0m\u001b[0m\n\u001b[0m\u001b[1;32m    577\u001b[0m \u001b[0;34m\u001b[0m\u001b[0m\n\u001b[1;32m    578\u001b[0m     \u001b[0;32mdef\u001b[0m \u001b[0mdowncast\u001b[0m\u001b[0;34m(\u001b[0m\u001b[0mself\u001b[0m\u001b[0;34m,\u001b[0m \u001b[0;34m**\u001b[0m\u001b[0mkwargs\u001b[0m\u001b[0;34m)\u001b[0m\u001b[0;34m:\u001b[0m\u001b[0;34m\u001b[0m\u001b[0;34m\u001b[0m\u001b[0m\n",
      "\u001b[0;32m~/anaconda3/envs/venvPy3.7/lib/python3.7/site-packages/pandas/core/internals/managers.py\u001b[0m in \u001b[0;36mapply\u001b[0;34m(self, f, filter, **kwargs)\u001b[0m\n\u001b[1;32m    440\u001b[0m                 \u001b[0mapplied\u001b[0m \u001b[0;34m=\u001b[0m \u001b[0mb\u001b[0m\u001b[0;34m.\u001b[0m\u001b[0mapply\u001b[0m\u001b[0;34m(\u001b[0m\u001b[0mf\u001b[0m\u001b[0;34m,\u001b[0m \u001b[0;34m**\u001b[0m\u001b[0mkwargs\u001b[0m\u001b[0;34m)\u001b[0m\u001b[0;34m\u001b[0m\u001b[0;34m\u001b[0m\u001b[0m\n\u001b[1;32m    441\u001b[0m             \u001b[0;32melse\u001b[0m\u001b[0;34m:\u001b[0m\u001b[0;34m\u001b[0m\u001b[0;34m\u001b[0m\u001b[0m\n\u001b[0;32m--> 442\u001b[0;31m                 \u001b[0mapplied\u001b[0m \u001b[0;34m=\u001b[0m \u001b[0mgetattr\u001b[0m\u001b[0;34m(\u001b[0m\u001b[0mb\u001b[0m\u001b[0;34m,\u001b[0m \u001b[0mf\u001b[0m\u001b[0;34m)\u001b[0m\u001b[0;34m(\u001b[0m\u001b[0;34m**\u001b[0m\u001b[0mkwargs\u001b[0m\u001b[0;34m)\u001b[0m\u001b[0;34m\u001b[0m\u001b[0;34m\u001b[0m\u001b[0m\n\u001b[0m\u001b[1;32m    443\u001b[0m             \u001b[0mresult_blocks\u001b[0m \u001b[0;34m=\u001b[0m \u001b[0m_extend_blocks\u001b[0m\u001b[0;34m(\u001b[0m\u001b[0mapplied\u001b[0m\u001b[0;34m,\u001b[0m \u001b[0mresult_blocks\u001b[0m\u001b[0;34m)\u001b[0m\u001b[0;34m\u001b[0m\u001b[0;34m\u001b[0m\u001b[0m\n\u001b[1;32m    444\u001b[0m \u001b[0;34m\u001b[0m\u001b[0m\n",
      "\u001b[0;32m~/anaconda3/envs/venvPy3.7/lib/python3.7/site-packages/pandas/core/internals/blocks.py\u001b[0m in \u001b[0;36mfillna\u001b[0;34m(self, value, limit, inplace, downcast)\u001b[0m\n\u001b[1;32m   1880\u001b[0m     \u001b[0;32mdef\u001b[0m \u001b[0mfillna\u001b[0m\u001b[0;34m(\u001b[0m\u001b[0mself\u001b[0m\u001b[0;34m,\u001b[0m \u001b[0mvalue\u001b[0m\u001b[0;34m,\u001b[0m \u001b[0mlimit\u001b[0m\u001b[0;34m=\u001b[0m\u001b[0;32mNone\u001b[0m\u001b[0;34m,\u001b[0m \u001b[0minplace\u001b[0m\u001b[0;34m=\u001b[0m\u001b[0;32mFalse\u001b[0m\u001b[0;34m,\u001b[0m \u001b[0mdowncast\u001b[0m\u001b[0;34m=\u001b[0m\u001b[0;32mNone\u001b[0m\u001b[0;34m)\u001b[0m\u001b[0;34m:\u001b[0m\u001b[0;34m\u001b[0m\u001b[0;34m\u001b[0m\u001b[0m\n\u001b[1;32m   1881\u001b[0m         \u001b[0mvalues\u001b[0m \u001b[0;34m=\u001b[0m \u001b[0mself\u001b[0m\u001b[0;34m.\u001b[0m\u001b[0mvalues\u001b[0m \u001b[0;32mif\u001b[0m \u001b[0minplace\u001b[0m \u001b[0;32melse\u001b[0m \u001b[0mself\u001b[0m\u001b[0;34m.\u001b[0m\u001b[0mvalues\u001b[0m\u001b[0;34m.\u001b[0m\u001b[0mcopy\u001b[0m\u001b[0;34m(\u001b[0m\u001b[0;34m)\u001b[0m\u001b[0;34m\u001b[0m\u001b[0;34m\u001b[0m\u001b[0m\n\u001b[0;32m-> 1882\u001b[0;31m         \u001b[0mvalues\u001b[0m \u001b[0;34m=\u001b[0m \u001b[0mvalues\u001b[0m\u001b[0;34m.\u001b[0m\u001b[0mfillna\u001b[0m\u001b[0;34m(\u001b[0m\u001b[0mvalue\u001b[0m\u001b[0;34m=\u001b[0m\u001b[0mvalue\u001b[0m\u001b[0;34m,\u001b[0m \u001b[0mlimit\u001b[0m\u001b[0;34m=\u001b[0m\u001b[0mlimit\u001b[0m\u001b[0;34m)\u001b[0m\u001b[0;34m\u001b[0m\u001b[0;34m\u001b[0m\u001b[0m\n\u001b[0m\u001b[1;32m   1883\u001b[0m         return [\n\u001b[1;32m   1884\u001b[0m             self.make_block_same_class(\n",
      "\u001b[0;32m~/anaconda3/envs/venvPy3.7/lib/python3.7/site-packages/pandas/core/arrays/categorical.py\u001b[0m in \u001b[0;36mfillna\u001b[0;34m(self, value, method, limit)\u001b[0m\n\u001b[1;32m   1753\u001b[0m             \u001b[0;32melif\u001b[0m \u001b[0mis_hashable\u001b[0m\u001b[0;34m(\u001b[0m\u001b[0mvalue\u001b[0m\u001b[0;34m)\u001b[0m\u001b[0;34m:\u001b[0m\u001b[0;34m\u001b[0m\u001b[0;34m\u001b[0m\u001b[0m\n\u001b[1;32m   1754\u001b[0m                 \u001b[0;32mif\u001b[0m \u001b[0;32mnot\u001b[0m \u001b[0misna\u001b[0m\u001b[0;34m(\u001b[0m\u001b[0mvalue\u001b[0m\u001b[0;34m)\u001b[0m \u001b[0;32mand\u001b[0m \u001b[0mvalue\u001b[0m \u001b[0;32mnot\u001b[0m \u001b[0;32min\u001b[0m \u001b[0mself\u001b[0m\u001b[0;34m.\u001b[0m\u001b[0mcategories\u001b[0m\u001b[0;34m:\u001b[0m\u001b[0;34m\u001b[0m\u001b[0;34m\u001b[0m\u001b[0m\n\u001b[0;32m-> 1755\u001b[0;31m                     \u001b[0;32mraise\u001b[0m \u001b[0mValueError\u001b[0m\u001b[0;34m(\u001b[0m\u001b[0;34m\"fill value must be in categories\"\u001b[0m\u001b[0;34m)\u001b[0m\u001b[0;34m\u001b[0m\u001b[0;34m\u001b[0m\u001b[0m\n\u001b[0m\u001b[1;32m   1756\u001b[0m \u001b[0;34m\u001b[0m\u001b[0m\n\u001b[1;32m   1757\u001b[0m                 \u001b[0mmask\u001b[0m \u001b[0;34m=\u001b[0m \u001b[0mcodes\u001b[0m \u001b[0;34m==\u001b[0m \u001b[0;34m-\u001b[0m\u001b[0;36m1\u001b[0m\u001b[0;34m\u001b[0m\u001b[0;34m\u001b[0m\u001b[0m\n",
      "\u001b[0;31mValueError\u001b[0m: fill value must be in categories"
     ]
    }
   ],
   "source": [
    "# Returns error\n",
    "df_complete = datawig.SimpleImputer.complete(df, precision_threshold = 0.0)\n",
    "df_complete.isna().sum()"
   ]
  },
  {
   "cell_type": "markdown",
   "id": "29b4282c",
   "metadata": {},
   "source": [
    "### Test 2 \n",
    "Running `SimpleImputer.complete()` without \"category\" data types actually imputes all columns expect the categorical Cabin. Embarked was imputed successfully probably due to the low missingness in the column."
   ]
  },
  {
   "cell_type": "code",
   "execution_count": 7,
   "id": "7558daa0",
   "metadata": {},
   "outputs": [],
   "source": [
    "# Convert category types \n",
    "df[[\"Survived\",\"Pclass\"]] = df[[\"Survived\",\"Pclass\"]].astype(\"int\")\n",
    "df[[\"Sex\",\"Embarked\"]] = df[[\"Sex\",\"Embarked\"]].astype(\"object\")"
   ]
  },
  {
   "cell_type": "code",
   "execution_count": 8,
   "id": "0017135b",
   "metadata": {},
   "outputs": [
    {
     "data": {
      "text/plain": [
       "Survived      0\n",
       "Pclass        0\n",
       "Name          0\n",
       "Sex           0\n",
       "Age           0\n",
       "SibSp         0\n",
       "Parch         0\n",
       "Ticket        0\n",
       "Fare          0\n",
       "Cabin       687\n",
       "Embarked      0\n",
       "dtype: int64"
      ]
     },
     "execution_count": 8,
     "metadata": {},
     "output_type": "execute_result"
    }
   ],
   "source": [
    "df_complete = datawig.SimpleImputer.complete(df, precision_threshold = 0.0)\n",
    "df_complete.isna().sum()"
   ]
  },
  {
   "cell_type": "markdown",
   "id": "bf22398d",
   "metadata": {},
   "source": [
    "Imputing with a higher precision_threshold shows the same behaviour (at least on the surface)."
   ]
  },
  {
   "cell_type": "code",
   "execution_count": 9,
   "id": "df35b232",
   "metadata": {},
   "outputs": [
    {
     "data": {
      "text/plain": [
       "Survived      0\n",
       "Pclass        0\n",
       "Name          0\n",
       "Sex           0\n",
       "Age           0\n",
       "SibSp         0\n",
       "Parch         0\n",
       "Ticket        0\n",
       "Fare          0\n",
       "Cabin       687\n",
       "Embarked      0\n",
       "dtype: int64"
      ]
     },
     "execution_count": 9,
     "metadata": {},
     "output_type": "execute_result"
    }
   ],
   "source": [
    "df_complete = datawig.SimpleImputer.complete(df, precision_threshold = 0.8)\n",
    "df_complete.isna().sum()"
   ]
  },
  {
   "cell_type": "markdown",
   "id": "e5dcc659",
   "metadata": {},
   "source": [
    "### Test 3\n",
    "Running `SimpleImputer.complete()` on a dataset full of object columns did not impute any values, except in Embarked which missed only two values."
   ]
  },
  {
   "cell_type": "code",
   "execution_count": 10,
   "id": "074b2924",
   "metadata": {},
   "outputs": [],
   "source": [
    "# Prevent ValueError by forcing columns to string type (this converts NaN values to \"nan\")\n",
    "for col in df:\n",
    "   df[col] = df[col].astype(str)\n",
    "\n",
    "# Convert \"nan\" back to np.nan\n",
    "for col in df:\n",
    "  if df[col].str.contains(\"nan\").any():\n",
    "    df[col].replace(\"nan\", np.nan, inplace=True)"
   ]
  },
  {
   "cell_type": "code",
   "execution_count": 11,
   "id": "4f9693d1",
   "metadata": {},
   "outputs": [
    {
     "data": {
      "text/plain": [
       "Survived      0\n",
       "Pclass        0\n",
       "Name          0\n",
       "Sex           0\n",
       "Age         177\n",
       "SibSp         0\n",
       "Parch         0\n",
       "Ticket        0\n",
       "Fare          0\n",
       "Cabin       687\n",
       "Embarked      0\n",
       "dtype: int64"
      ]
     },
     "execution_count": 11,
     "metadata": {},
     "output_type": "execute_result"
    }
   ],
   "source": [
    "df_complete = datawig.SimpleImputer.complete(df, precision_threshold = 0.0)\n",
    "df_complete.isna().sum()"
   ]
  },
  {
   "cell_type": "markdown",
   "id": "a37e08b1",
   "metadata": {},
   "source": [
    "# Testing custom imputation models (categorical columns only)\n",
    "(Kernel restart)"
   ]
  },
  {
   "cell_type": "markdown",
   "id": "d89c8747",
   "metadata": {},
   "source": [
    "### Test 1\n",
    "Running a custom imputation model with all columns as inputs. Category types were converted."
   ]
  },
  {
   "cell_type": "code",
   "execution_count": 3,
   "id": "93d07b4e",
   "metadata": {},
   "outputs": [],
   "source": [
    "# Convert category types \n",
    "df[[\"Survived\",\"Pclass\"]] = df[[\"Survived\",\"Pclass\"]].astype(\"int\")\n",
    "df[[\"Sex\",\"Embarked\"]] = df[[\"Sex\",\"Embarked\"]].astype(\"object\")"
   ]
  },
  {
   "cell_type": "code",
   "execution_count": 4,
   "id": "75f8e63b",
   "metadata": {},
   "outputs": [],
   "source": [
    "# Split data for SimpleImputer \n",
    "df_train, df_test = datawig.utils.random_split(df)"
   ]
  },
  {
   "cell_type": "code",
   "execution_count": 5,
   "id": "0106c8c2",
   "metadata": {
    "scrolled": true
   },
   "outputs": [
    {
     "name": "stderr",
     "output_type": "stream",
     "text": [
      "2022-08-05 20:51:07,731 [INFO]  CategoricalEncoder for column Cabin                                found only 45 occurrences of value C\n",
      "2022-08-05 20:51:07,732 [INFO]  CategoricalEncoder for column Cabin                                found only 38 occurrences of value B\n",
      "2022-08-05 20:51:07,732 [INFO]  CategoricalEncoder for column Cabin                                found only 23 occurrences of value Other\n",
      "2022-08-05 20:51:07,733 [INFO]  CategoricalEncoder for column Cabin                                found only 23 occurrences of value E\n",
      "2022-08-05 20:51:07,733 [INFO]  CategoricalEncoder for column Cabin                                found only 22 occurrences of value D\n",
      "2022-08-05 20:51:07,756 [INFO]  Note: NumExpr detected 12 cores but \"NUMEXPR_MAX_THREADS\" not set, so enforcing safe limit of 8.\n",
      "2022-08-05 20:51:07,756 [INFO]  NumExpr defaulting to 8 threads.\n",
      "2022-08-05 20:51:07,789 [INFO]  \n",
      "========== start: fit model\n",
      "2022-08-05 20:51:07,790 [WARNING]  Already bound, ignoring bind()\n",
      "2022-08-05 20:51:07,814 [INFO]  Epoch[0] Batch [0-5]\tSpeed: 4196.77 samples/sec\tcross-entropy=1.569281\tCabin-accuracy=0.302083\n",
      "2022-08-05 20:51:07,828 [INFO]  Epoch[0] Train-cross-entropy=1.537667\n",
      "2022-08-05 20:51:07,828 [INFO]  Epoch[0] Train-Cabin-accuracy=0.356250\n",
      "2022-08-05 20:51:07,829 [INFO]  Epoch[0] Time cost=0.038\n",
      "2022-08-05 20:51:07,831 [INFO]  Saved checkpoint to \"imputer_model/model-0000.params\"\n",
      "2022-08-05 20:51:07,834 [INFO]  Epoch[0] Validation-cross-entropy=1.425198\n",
      "2022-08-05 20:51:07,834 [INFO]  Epoch[0] Validation-Cabin-accuracy=0.437500\n",
      "2022-08-05 20:51:07,853 [INFO]  Epoch[1] Batch [0-5]\tSpeed: 5224.84 samples/sec\tcross-entropy=1.166105\tCabin-accuracy=0.510417\n",
      "2022-08-05 20:51:07,868 [INFO]  Epoch[1] Train-cross-entropy=1.199434\n",
      "2022-08-05 20:51:07,869 [INFO]  Epoch[1] Train-Cabin-accuracy=0.518750\n",
      "2022-08-05 20:51:07,869 [INFO]  Epoch[1] Time cost=0.035\n",
      "2022-08-05 20:51:07,872 [INFO]  Saved checkpoint to \"imputer_model/model-0001.params\"\n",
      "2022-08-05 20:51:07,874 [INFO]  Epoch[1] Validation-cross-entropy=1.356093\n",
      "2022-08-05 20:51:07,875 [INFO]  Epoch[1] Validation-Cabin-accuracy=0.500000\n",
      "2022-08-05 20:51:07,893 [INFO]  Epoch[2] Batch [0-5]\tSpeed: 5576.88 samples/sec\tcross-entropy=1.032412\tCabin-accuracy=0.583333\n",
      "2022-08-05 20:51:07,905 [INFO]  Epoch[2] Train-cross-entropy=1.069892\n",
      "2022-08-05 20:51:07,905 [INFO]  Epoch[2] Train-Cabin-accuracy=0.575000\n",
      "2022-08-05 20:51:07,906 [INFO]  Epoch[2] Time cost=0.030\n",
      "2022-08-05 20:51:07,908 [INFO]  Saved checkpoint to \"imputer_model/model-0002.params\"\n",
      "2022-08-05 20:51:07,911 [INFO]  Epoch[2] Validation-cross-entropy=1.298356\n",
      "2022-08-05 20:51:07,912 [INFO]  Epoch[2] Validation-Cabin-accuracy=0.500000\n",
      "2022-08-05 20:51:07,934 [INFO]  Epoch[3] Batch [0-5]\tSpeed: 4403.35 samples/sec\tcross-entropy=0.936022\tCabin-accuracy=0.625000\n",
      "2022-08-05 20:51:07,950 [INFO]  Epoch[3] Train-cross-entropy=0.976155\n",
      "2022-08-05 20:51:07,951 [INFO]  Epoch[3] Train-Cabin-accuracy=0.606250\n",
      "2022-08-05 20:51:07,951 [INFO]  Epoch[3] Time cost=0.039\n",
      "2022-08-05 20:51:07,954 [INFO]  Saved checkpoint to \"imputer_model/model-0003.params\"\n",
      "2022-08-05 20:51:07,957 [INFO]  Epoch[3] Validation-cross-entropy=1.272885\n",
      "2022-08-05 20:51:07,958 [INFO]  Epoch[3] Validation-Cabin-accuracy=0.500000\n",
      "2022-08-05 20:51:07,981 [INFO]  Epoch[4] Batch [0-5]\tSpeed: 4246.00 samples/sec\tcross-entropy=0.864338\tCabin-accuracy=0.718750\n",
      "2022-08-05 20:51:07,997 [INFO]  Epoch[4] Train-cross-entropy=0.899015\n",
      "2022-08-05 20:51:07,997 [INFO]  Epoch[4] Train-Cabin-accuracy=0.675000\n",
      "2022-08-05 20:51:07,998 [INFO]  Epoch[4] Time cost=0.040\n",
      "2022-08-05 20:51:08,000 [INFO]  Saved checkpoint to \"imputer_model/model-0004.params\"\n",
      "2022-08-05 20:51:08,002 [INFO]  Epoch[4] Validation-cross-entropy=1.276317\n",
      "2022-08-05 20:51:08,002 [INFO]  Epoch[4] Validation-Cabin-accuracy=0.500000\n",
      "2022-08-05 20:51:08,020 [INFO]  Epoch[5] Batch [0-5]\tSpeed: 5879.32 samples/sec\tcross-entropy=0.807790\tCabin-accuracy=0.739583\n",
      "2022-08-05 20:51:08,032 [INFO]  Epoch[5] Train-cross-entropy=0.833736\n",
      "2022-08-05 20:51:08,032 [INFO]  Epoch[5] Train-Cabin-accuracy=0.706250\n",
      "2022-08-05 20:51:08,033 [INFO]  Epoch[5] Time cost=0.030\n",
      "2022-08-05 20:51:08,034 [INFO]  Saved checkpoint to \"imputer_model/model-0005.params\"\n",
      "2022-08-05 20:51:08,036 [INFO]  Epoch[5] Validation-cross-entropy=1.283113\n",
      "2022-08-05 20:51:08,037 [INFO]  Epoch[5] Validation-Cabin-accuracy=0.500000\n",
      "2022-08-05 20:51:08,053 [INFO]  Epoch[6] Batch [0-5]\tSpeed: 6303.67 samples/sec\tcross-entropy=0.757443\tCabin-accuracy=0.770833\n",
      "2022-08-05 20:51:08,065 [INFO]  Epoch[6] Train-cross-entropy=0.776673\n",
      "2022-08-05 20:51:08,065 [INFO]  Epoch[6] Train-Cabin-accuracy=0.743750\n",
      "2022-08-05 20:51:08,066 [INFO]  Epoch[6] Time cost=0.029\n",
      "2022-08-05 20:51:08,068 [INFO]  Saved checkpoint to \"imputer_model/model-0006.params\"\n",
      "2022-08-05 20:51:08,070 [INFO]  Epoch[6] Validation-cross-entropy=1.282413\n",
      "2022-08-05 20:51:08,071 [INFO]  Epoch[6] Validation-Cabin-accuracy=0.500000\n",
      "2022-08-05 20:51:08,087 [INFO]  Epoch[7] Batch [0-5]\tSpeed: 6141.11 samples/sec\tcross-entropy=0.708848\tCabin-accuracy=0.812500\n",
      "2022-08-05 20:51:08,099 [INFO]  Epoch[7] Train-cross-entropy=0.723989\n",
      "2022-08-05 20:51:08,099 [INFO]  Epoch[7] Train-Cabin-accuracy=0.806250\n",
      "2022-08-05 20:51:08,100 [INFO]  Epoch[7] Time cost=0.029\n",
      "2022-08-05 20:51:08,102 [INFO]  Saved checkpoint to \"imputer_model/model-0007.params\"\n",
      "2022-08-05 20:51:08,104 [INFO]  Epoch[7] Validation-cross-entropy=1.280568\n",
      "2022-08-05 20:51:08,105 [INFO]  Epoch[7] Validation-Cabin-accuracy=0.500000\n",
      "2022-08-05 20:51:08,121 [INFO]  Epoch[8] Batch [0-5]\tSpeed: 6090.95 samples/sec\tcross-entropy=0.663208\tCabin-accuracy=0.843750\n",
      "2022-08-05 20:51:08,133 [INFO]  Epoch[8] Train-cross-entropy=0.675119\n",
      "2022-08-05 20:51:08,133 [INFO]  Epoch[8] Train-Cabin-accuracy=0.831250\n",
      "2022-08-05 20:51:08,133 [INFO]  Epoch[8] Time cost=0.028\n",
      "2022-08-05 20:51:08,135 [INFO]  Saved checkpoint to \"imputer_model/model-0008.params\"\n",
      "2022-08-05 20:51:08,137 [INFO]  No improvement detected for 5 epochs compared to 1.2728850841522217 last error obtained: 1.27998948097229, stopping here\n",
      "2022-08-05 20:51:08,138 [INFO]  \n",
      "========== done (0.34885334968566895 s) fit model\n"
     ]
    },
    {
     "name": "stdout",
     "output_type": "stream",
     "text": [
      "weighted_f1 : 0.45333333333333337 \n",
      " avg_precision : 0.3833333333333333\n"
     ]
    }
   ],
   "source": [
    "# Custom imputation model for Cabin \n",
    "imputer_Cabin = datawig.SimpleImputer(\n",
    "    input_columns=['Survived', 'Pclass', 'Name', 'Sex', 'SibSp', 'Parch', 'Ticket', 'Fare', 'Age', 'Embarked'], \n",
    "    output_column= 'Cabin', \n",
    "    output_path = 'imputer_model'\n",
    "    )\n",
    "\n",
    "# Fit model and predict on test set\n",
    "imputer_Cabin.fit(train_df=df_train, num_epochs=50)\n",
    "predictions = imputer_Cabin.predict(df_test)\n",
    "\n",
    "# Calculate metrics - datawig provides its own metrics for categorical variables\n",
    "metrics = imputer_Cabin.load_metrics()\n",
    "weighted_f1 = metrics['weighted_f1']\n",
    "avg_precision = metrics['avg_precision']\n",
    "print(\"weighted_f1 :\", weighted_f1, \"\\n\", \"avg_precision :\", avg_precision)"
   ]
  },
  {
   "cell_type": "markdown",
   "id": "c29a60ee",
   "metadata": {},
   "source": [
    "### Test 2\n",
    "Running a custom imputation model with all columns as inputs. All columns were converted to type object."
   ]
  },
  {
   "cell_type": "code",
   "execution_count": 6,
   "id": "b3f17c66",
   "metadata": {},
   "outputs": [],
   "source": [
    "# Prevent ValueError by forcing columns to string type (this converts NaN values to \"nan\")\n",
    "for col in df:\n",
    "   df[col] = df[col].astype(str)\n",
    "\n",
    "# Convert \"nan\" back to np.nan\n",
    "for col in df:\n",
    "  if df[col].str.contains(\"nan\").any():\n",
    "    df[col].replace(\"nan\", np.nan, inplace=True)"
   ]
  },
  {
   "cell_type": "code",
   "execution_count": 7,
   "id": "d17f4e44",
   "metadata": {},
   "outputs": [],
   "source": [
    "# Split data for SimpleImputer \n",
    "df_train, df_test = datawig.utils.random_split(df)"
   ]
  },
  {
   "cell_type": "code",
   "execution_count": 8,
   "id": "2b1377c7",
   "metadata": {},
   "outputs": [
    {
     "name": "stdout",
     "output_type": "stream",
     "text": [
      "weighted_f1 : 0.4126984126984127 \n",
      " avg_precision : 0.365\n"
     ]
    }
   ],
   "source": [
    "# Custom imputation model for Cabin \n",
    "imputer_Cabin = datawig.SimpleImputer(\n",
    "    input_columns=['Survived', 'Pclass', 'Name', 'Sex', 'SibSp', 'Parch', 'Ticket', 'Fare', 'Age', 'Embarked'], \n",
    "    output_column= 'Cabin', \n",
    "    output_path = 'imputer_model'\n",
    "    )\n",
    "\n",
    "# Fit model and predict on test set\n",
    "imputer_Cabin.fit(train_df=df_train, num_epochs=50)\n",
    "predictions = imputer_Cabin.predict(df_test)\n",
    "\n",
    "# Calculate metrics - datawig provides its own metrics for categorical variables\n",
    "metrics = imputer_Cabin.load_metrics()\n",
    "weighted_f1 = metrics['weighted_f1']\n",
    "avg_precision = metrics['avg_precision']\n",
    "print(\"weighted_f1 :\", weighted_f1, \"\\n\", \"avg_precision :\", avg_precision)"
   ]
  },
  {
   "cell_type": "markdown",
   "id": "d445bae1",
   "metadata": {},
   "source": [
    "# <center> Testing on Melbourne Housing Market Dataset </center>\n",
    "(Kernel restart)"
   ]
  },
  {
   "cell_type": "code",
   "execution_count": 1,
   "id": "1f536f96",
   "metadata": {},
   "outputs": [],
   "source": [
    "# Basic libraries\n",
    "import pandas as pd\n",
    "import numpy as np\n",
    "import pickle\n",
    "import warnings\n",
    "warnings.filterwarnings('ignore')\n",
    "\n",
    "# datawig\n",
    "import datawig"
   ]
  },
  {
   "cell_type": "code",
   "execution_count": 2,
   "id": "9a19784d",
   "metadata": {},
   "outputs": [
    {
     "data": {
      "text/html": [
       "<div>\n",
       "<style scoped>\n",
       "    .dataframe tbody tr th:only-of-type {\n",
       "        vertical-align: middle;\n",
       "    }\n",
       "\n",
       "    .dataframe tbody tr th {\n",
       "        vertical-align: top;\n",
       "    }\n",
       "\n",
       "    .dataframe thead th {\n",
       "        text-align: right;\n",
       "    }\n",
       "</style>\n",
       "<table border=\"1\" class=\"dataframe\">\n",
       "  <thead>\n",
       "    <tr style=\"text-align: right;\">\n",
       "      <th></th>\n",
       "      <th>Suburb</th>\n",
       "      <th>Rooms</th>\n",
       "      <th>Type</th>\n",
       "      <th>Price</th>\n",
       "      <th>Method</th>\n",
       "      <th>SellerG</th>\n",
       "      <th>Distance</th>\n",
       "      <th>Bedroom2</th>\n",
       "      <th>Bathroom</th>\n",
       "      <th>Car</th>\n",
       "      <th>Landsize</th>\n",
       "      <th>BuildingArea</th>\n",
       "      <th>YearBuilt</th>\n",
       "      <th>CouncilArea</th>\n",
       "      <th>Lattitude</th>\n",
       "      <th>Longtitude</th>\n",
       "      <th>Regionname</th>\n",
       "      <th>Propertycount</th>\n",
       "    </tr>\n",
       "  </thead>\n",
       "  <tbody>\n",
       "    <tr>\n",
       "      <th>0</th>\n",
       "      <td>Abbotsford</td>\n",
       "      <td>2</td>\n",
       "      <td>h</td>\n",
       "      <td>1480000.0</td>\n",
       "      <td>S</td>\n",
       "      <td>Biggin</td>\n",
       "      <td>2.5</td>\n",
       "      <td>2.0</td>\n",
       "      <td>1.0</td>\n",
       "      <td>1.0</td>\n",
       "      <td>202.0</td>\n",
       "      <td>NaN</td>\n",
       "      <td>NaN</td>\n",
       "      <td>Yarra</td>\n",
       "      <td>-37.7996</td>\n",
       "      <td>144.9984</td>\n",
       "      <td>Northern Metropolitan</td>\n",
       "      <td>4019.0</td>\n",
       "    </tr>\n",
       "    <tr>\n",
       "      <th>1</th>\n",
       "      <td>Abbotsford</td>\n",
       "      <td>2</td>\n",
       "      <td>h</td>\n",
       "      <td>1035000.0</td>\n",
       "      <td>S</td>\n",
       "      <td>Biggin</td>\n",
       "      <td>2.5</td>\n",
       "      <td>2.0</td>\n",
       "      <td>1.0</td>\n",
       "      <td>0.0</td>\n",
       "      <td>156.0</td>\n",
       "      <td>79.0</td>\n",
       "      <td>1900.0</td>\n",
       "      <td>Yarra</td>\n",
       "      <td>-37.8079</td>\n",
       "      <td>144.9934</td>\n",
       "      <td>Northern Metropolitan</td>\n",
       "      <td>4019.0</td>\n",
       "    </tr>\n",
       "    <tr>\n",
       "      <th>2</th>\n",
       "      <td>Abbotsford</td>\n",
       "      <td>3</td>\n",
       "      <td>h</td>\n",
       "      <td>1465000.0</td>\n",
       "      <td>SP</td>\n",
       "      <td>Biggin</td>\n",
       "      <td>2.5</td>\n",
       "      <td>3.0</td>\n",
       "      <td>2.0</td>\n",
       "      <td>0.0</td>\n",
       "      <td>134.0</td>\n",
       "      <td>150.0</td>\n",
       "      <td>1900.0</td>\n",
       "      <td>Yarra</td>\n",
       "      <td>-37.8093</td>\n",
       "      <td>144.9944</td>\n",
       "      <td>Northern Metropolitan</td>\n",
       "      <td>4019.0</td>\n",
       "    </tr>\n",
       "    <tr>\n",
       "      <th>3</th>\n",
       "      <td>Abbotsford</td>\n",
       "      <td>3</td>\n",
       "      <td>h</td>\n",
       "      <td>850000.0</td>\n",
       "      <td>PI</td>\n",
       "      <td>Biggin</td>\n",
       "      <td>2.5</td>\n",
       "      <td>3.0</td>\n",
       "      <td>2.0</td>\n",
       "      <td>1.0</td>\n",
       "      <td>94.0</td>\n",
       "      <td>NaN</td>\n",
       "      <td>NaN</td>\n",
       "      <td>Yarra</td>\n",
       "      <td>-37.7969</td>\n",
       "      <td>144.9969</td>\n",
       "      <td>Northern Metropolitan</td>\n",
       "      <td>4019.0</td>\n",
       "    </tr>\n",
       "    <tr>\n",
       "      <th>4</th>\n",
       "      <td>Abbotsford</td>\n",
       "      <td>4</td>\n",
       "      <td>h</td>\n",
       "      <td>1600000.0</td>\n",
       "      <td>VB</td>\n",
       "      <td>Nelson</td>\n",
       "      <td>2.5</td>\n",
       "      <td>3.0</td>\n",
       "      <td>1.0</td>\n",
       "      <td>2.0</td>\n",
       "      <td>120.0</td>\n",
       "      <td>142.0</td>\n",
       "      <td>2014.0</td>\n",
       "      <td>Yarra</td>\n",
       "      <td>-37.8072</td>\n",
       "      <td>144.9941</td>\n",
       "      <td>Northern Metropolitan</td>\n",
       "      <td>4019.0</td>\n",
       "    </tr>\n",
       "  </tbody>\n",
       "</table>\n",
       "</div>"
      ],
      "text/plain": [
       "       Suburb  Rooms Type      Price Method SellerG  Distance  Bedroom2  \\\n",
       "0  Abbotsford      2    h  1480000.0      S  Biggin       2.5       2.0   \n",
       "1  Abbotsford      2    h  1035000.0      S  Biggin       2.5       2.0   \n",
       "2  Abbotsford      3    h  1465000.0     SP  Biggin       2.5       3.0   \n",
       "3  Abbotsford      3    h   850000.0     PI  Biggin       2.5       3.0   \n",
       "4  Abbotsford      4    h  1600000.0     VB  Nelson       2.5       3.0   \n",
       "\n",
       "   Bathroom  Car  Landsize  BuildingArea  YearBuilt CouncilArea  Lattitude  \\\n",
       "0       1.0  1.0     202.0           NaN        NaN       Yarra   -37.7996   \n",
       "1       1.0  0.0     156.0          79.0     1900.0       Yarra   -37.8079   \n",
       "2       2.0  0.0     134.0         150.0     1900.0       Yarra   -37.8093   \n",
       "3       2.0  1.0      94.0           NaN        NaN       Yarra   -37.7969   \n",
       "4       1.0  2.0     120.0         142.0     2014.0       Yarra   -37.8072   \n",
       "\n",
       "   Longtitude             Regionname  Propertycount  \n",
       "0    144.9984  Northern Metropolitan         4019.0  \n",
       "1    144.9934  Northern Metropolitan         4019.0  \n",
       "2    144.9944  Northern Metropolitan         4019.0  \n",
       "3    144.9969  Northern Metropolitan         4019.0  \n",
       "4    144.9941  Northern Metropolitan         4019.0  "
      ]
     },
     "execution_count": 2,
     "metadata": {},
     "output_type": "execute_result"
    }
   ],
   "source": [
    "# Import data\n",
    "df = pd.read_csv(\"melb_data.csv\", usecols = [0, *range(2,7), 8, *range(10,21)])\n",
    "pd.set_option('display.max_columns', 500)\n",
    "df.head()"
   ]
  },
  {
   "cell_type": "code",
   "execution_count": 3,
   "id": "9f66bd4c",
   "metadata": {},
   "outputs": [
    {
     "name": "stdout",
     "output_type": "stream",
     "text": [
      "<class 'pandas.core.frame.DataFrame'>\n",
      "RangeIndex: 13580 entries, 0 to 13579\n",
      "Data columns (total 18 columns):\n",
      " #   Column         Non-Null Count  Dtype  \n",
      "---  ------         --------------  -----  \n",
      " 0   Suburb         13580 non-null  object \n",
      " 1   Rooms          13580 non-null  int64  \n",
      " 2   Type           13580 non-null  object \n",
      " 3   Price          13580 non-null  float64\n",
      " 4   Method         13580 non-null  object \n",
      " 5   SellerG        13580 non-null  object \n",
      " 6   Distance       13580 non-null  float64\n",
      " 7   Bedroom2       13580 non-null  float64\n",
      " 8   Bathroom       13580 non-null  float64\n",
      " 9   Car            13518 non-null  float64\n",
      " 10  Landsize       13580 non-null  float64\n",
      " 11  BuildingArea   7130 non-null   float64\n",
      " 12  YearBuilt      8205 non-null   float64\n",
      " 13  CouncilArea    12211 non-null  object \n",
      " 14  Lattitude      13580 non-null  float64\n",
      " 15  Longtitude     13580 non-null  float64\n",
      " 16  Regionname     13580 non-null  object \n",
      " 17  Propertycount  13580 non-null  float64\n",
      "dtypes: float64(11), int64(1), object(6)\n",
      "memory usage: 1.9+ MB\n"
     ]
    }
   ],
   "source": [
    "df.info()"
   ]
  },
  {
   "cell_type": "code",
   "execution_count": 4,
   "id": "a4df9c7b",
   "metadata": {
    "scrolled": true
   },
   "outputs": [
    {
     "data": {
      "text/plain": [
       "Suburb              0\n",
       "Rooms               0\n",
       "Type                0\n",
       "Price               0\n",
       "Method              0\n",
       "SellerG             0\n",
       "Distance            0\n",
       "Bedroom2            0\n",
       "Bathroom            0\n",
       "Car                62\n",
       "Landsize            0\n",
       "BuildingArea     6450\n",
       "YearBuilt        5375\n",
       "CouncilArea      1369\n",
       "Lattitude           0\n",
       "Longtitude          0\n",
       "Regionname          0\n",
       "Propertycount       0\n",
       "dtype: int64"
      ]
     },
     "execution_count": 4,
     "metadata": {},
     "output_type": "execute_result"
    }
   ],
   "source": [
    "df.isna().sum()"
   ]
  },
  {
   "cell_type": "code",
   "execution_count": 5,
   "id": "553ce6e5",
   "metadata": {},
   "outputs": [
    {
     "name": "stderr",
     "output_type": "stream",
     "text": [
      "2022-08-05 20:51:35,193 [INFO]  Note: NumExpr detected 12 cores but \"NUMEXPR_MAX_THREADS\" not set, so enforcing safe limit of 8.\n",
      "2022-08-05 20:51:35,193 [INFO]  NumExpr defaulting to 8 threads.\n"
     ]
    },
    {
     "data": {
      "text/plain": [
       "Suburb            0.000000\n",
       "Rooms             0.000000\n",
       "Type              0.000000\n",
       "Price             0.000000\n",
       "Method            0.000000\n",
       "SellerG           0.000000\n",
       "Distance          0.000000\n",
       "Bedroom2          0.000000\n",
       "Bathroom          0.000000\n",
       "Car               0.456554\n",
       "Landsize          0.000000\n",
       "BuildingArea     47.496318\n",
       "YearBuilt        39.580265\n",
       "CouncilArea      10.081001\n",
       "Lattitude         0.000000\n",
       "Longtitude        0.000000\n",
       "Regionname        0.000000\n",
       "Propertycount     0.000000\n",
       "dtype: float64"
      ]
     },
     "execution_count": 5,
     "metadata": {},
     "output_type": "execute_result"
    }
   ],
   "source": [
    "# Percentage of missingness per column\n",
    "df.isna().sum()/len(df)*100"
   ]
  },
  {
   "cell_type": "markdown",
   "id": "fa8736d1",
   "metadata": {},
   "source": [
    "### Test 1\n",
    "Running `SimpleImputer.complete()` on current datatypes (no category types) imputes all columns except the categorical one."
   ]
  },
  {
   "cell_type": "code",
   "execution_count": 6,
   "id": "c43a8eeb",
   "metadata": {},
   "outputs": [
    {
     "data": {
      "text/plain": [
       "Suburb              0\n",
       "Rooms               0\n",
       "Type                0\n",
       "Price               0\n",
       "Method              0\n",
       "SellerG             0\n",
       "Distance            0\n",
       "Bedroom2            0\n",
       "Bathroom            0\n",
       "Car                 0\n",
       "Landsize            0\n",
       "BuildingArea        0\n",
       "YearBuilt           0\n",
       "CouncilArea      1369\n",
       "Lattitude           0\n",
       "Longtitude          0\n",
       "Regionname          0\n",
       "Propertycount       0\n",
       "dtype: int64"
      ]
     },
     "execution_count": 6,
     "metadata": {},
     "output_type": "execute_result"
    }
   ],
   "source": [
    "df_complete = datawig.SimpleImputer.complete(df, precision_threshold = 0.0)\n",
    "df_complete.isna().sum()"
   ]
  },
  {
   "cell_type": "markdown",
   "id": "e225590d",
   "metadata": {},
   "source": [
    "### Test 2\n",
    "Increasing precision_threshold shows no difference."
   ]
  },
  {
   "cell_type": "code",
   "execution_count": 7,
   "id": "de959d80",
   "metadata": {},
   "outputs": [
    {
     "data": {
      "text/plain": [
       "Suburb              0\n",
       "Rooms               0\n",
       "Type                0\n",
       "Price               0\n",
       "Method              0\n",
       "SellerG             0\n",
       "Distance            0\n",
       "Bedroom2            0\n",
       "Bathroom            0\n",
       "Car                 0\n",
       "Landsize            0\n",
       "BuildingArea        0\n",
       "YearBuilt           0\n",
       "CouncilArea      1369\n",
       "Lattitude           0\n",
       "Longtitude          0\n",
       "Regionname          0\n",
       "Propertycount       0\n",
       "dtype: int64"
      ]
     },
     "execution_count": 7,
     "metadata": {},
     "output_type": "execute_result"
    }
   ],
   "source": [
    "df_complete = datawig.SimpleImputer.complete(df, precision_threshold = 0.8)\n",
    "df_complete.isna().sum()"
   ]
  },
  {
   "cell_type": "markdown",
   "id": "99716af3",
   "metadata": {},
   "source": [
    "### Test 3\n",
    "Running `SimpleImputer.complete()` on a dataset full of object columns (numerics converted) did not impute any values."
   ]
  },
  {
   "cell_type": "code",
   "execution_count": 12,
   "id": "07f47a91",
   "metadata": {},
   "outputs": [],
   "source": [
    "for col in df:\n",
    "   df[col] = df[col].astype(str)\n",
    "\n",
    "# Convert \"nan\" back to np.nan\n",
    "for col in df:\n",
    "  if df[col].str.contains(\"nan\").any():\n",
    "    df[col].replace(\"nan\", np.nan, inplace=True)"
   ]
  },
  {
   "cell_type": "code",
   "execution_count": 13,
   "id": "ad906b80",
   "metadata": {},
   "outputs": [
    {
     "data": {
      "text/plain": [
       "Suburb              0\n",
       "Rooms               0\n",
       "Type                0\n",
       "Price               0\n",
       "Method              0\n",
       "SellerG             0\n",
       "Distance            0\n",
       "Bedroom2            0\n",
       "Bathroom            0\n",
       "Car                62\n",
       "Landsize            0\n",
       "BuildingArea     6450\n",
       "YearBuilt        5375\n",
       "CouncilArea      1369\n",
       "Lattitude           0\n",
       "Longtitude          0\n",
       "Regionname          0\n",
       "Propertycount       0\n",
       "dtype: int64"
      ]
     },
     "execution_count": 13,
     "metadata": {},
     "output_type": "execute_result"
    }
   ],
   "source": [
    "df_complete = datawig.SimpleImputer.complete(df, precision_threshold = 0.0)\n",
    "df_complete.isna().sum()"
   ]
  },
  {
   "cell_type": "markdown",
   "id": "b4d57f80",
   "metadata": {},
   "source": [
    "# Testing custom imputation models (categorical columns only)\n",
    "(Kernel restart)"
   ]
  },
  {
   "cell_type": "markdown",
   "id": "8ef1e0a5",
   "metadata": {},
   "source": [
    "### Test 1\n",
    "Running a custom imputation model with all columns as inputs."
   ]
  },
  {
   "cell_type": "code",
   "execution_count": 3,
   "id": "5267ed00",
   "metadata": {},
   "outputs": [],
   "source": [
    "# Split data for SimpleImputer \n",
    "df_train, df_test = datawig.utils.random_split(df)"
   ]
  },
  {
   "cell_type": "code",
   "execution_count": 4,
   "id": "b861b178",
   "metadata": {},
   "outputs": [
    {
     "name": "stderr",
     "output_type": "stream",
     "text": [
      "2022-08-05 22:40:43,303 [INFO]  CategoricalEncoder for column CouncilArea                                found only 63 occurrences of value Knox\n",
      "2022-08-05 22:40:43,304 [INFO]  CategoricalEncoder for column CouncilArea                                found only 52 occurrences of value Wyndham\n",
      "2022-08-05 22:40:43,304 [INFO]  CategoricalEncoder for column CouncilArea                                found only 52 occurrences of value Maroondah\n",
      "2022-08-05 22:40:43,304 [INFO]  CategoricalEncoder for column CouncilArea                                found only 46 occurrences of value Melton\n",
      "2022-08-05 22:40:43,305 [INFO]  CategoricalEncoder for column CouncilArea                                found only 37 occurrences of value Greater Dandenong\n",
      "2022-08-05 22:40:43,305 [INFO]  CategoricalEncoder for column CouncilArea                                found only 36 occurrences of value Frankston\n",
      "2022-08-05 22:40:43,305 [INFO]  CategoricalEncoder for column CouncilArea                                found only 30 occurrences of value Casey\n",
      "2022-08-05 22:40:43,305 [INFO]  CategoricalEncoder for column CouncilArea                                found only 26 occurrences of value Nillumbik\n",
      "2022-08-05 22:40:43,306 [INFO]  CategoricalEncoder for column CouncilArea                                found only 12 occurrences of value Yarra Ranges\n",
      "2022-08-05 22:40:43,306 [INFO]  CategoricalEncoder for column CouncilArea                                found only 6 occurrences of value Cardinia\n",
      "2022-08-05 22:40:43,306 [INFO]  CategoricalEncoder for column CouncilArea                                found only 5 occurrences of value Macedon Ranges\n",
      "2022-08-05 22:40:43,307 [INFO]  CategoricalEncoder for column CouncilArea                                found only 1 occurrences of value Moorabool\n",
      "2022-08-05 22:40:43,332 [INFO]  Note: NumExpr detected 12 cores but \"NUMEXPR_MAX_THREADS\" not set, so enforcing safe limit of 8.\n",
      "2022-08-05 22:40:43,333 [INFO]  NumExpr defaulting to 8 threads.\n",
      "2022-08-05 22:40:44,302 [WARNING]  Test set does not contain any ocurrences of values [Macedon Ranges, Moorabool, Cardinia] in column [CouncilArea], consider using a more representative test set.\n",
      "2022-08-05 22:40:44,306 [INFO]  \n",
      "========== start: fit model\n",
      "2022-08-05 22:40:44,307 [WARNING]  Already bound, ignoring bind()\n",
      "2022-08-05 22:40:46,548 [INFO]  Epoch[0] Batch [0-275]\tSpeed: 1978.14 samples/sec\tcross-entropy=1.018970\tCouncilArea-accuracy=0.738451\n",
      "2022-08-05 22:40:48,628 [INFO]  Epoch[0] Train-cross-entropy=0.667879\n",
      "2022-08-05 22:40:48,628 [INFO]  Epoch[0] Train-CouncilArea-accuracy=0.838115\n",
      "2022-08-05 22:40:48,629 [INFO]  Epoch[0] Time cost=4.318\n",
      "2022-08-05 22:40:48,634 [INFO]  Saved checkpoint to \"imputer_model/model-0000.params\"\n",
      "2022-08-05 22:40:48,814 [INFO]  Epoch[0] Validation-cross-entropy=0.218944\n",
      "2022-08-05 22:40:48,814 [INFO]  Epoch[0] Validation-CouncilArea-accuracy=0.952869\n",
      "2022-08-05 22:40:50,927 [INFO]  Epoch[1] Batch [0-275]\tSpeed: 2091.67 samples/sec\tcross-entropy=0.177594\tCouncilArea-accuracy=0.960598\n",
      "2022-08-05 22:40:53,086 [INFO]  Epoch[1] Train-cross-entropy=0.156413\n",
      "2022-08-05 22:40:53,087 [INFO]  Epoch[1] Train-CouncilArea-accuracy=0.964481\n",
      "2022-08-05 22:40:53,087 [INFO]  Epoch[1] Time cost=4.273\n",
      "2022-08-05 22:40:53,093 [INFO]  Saved checkpoint to \"imputer_model/model-0001.params\"\n",
      "2022-08-05 22:40:53,286 [INFO]  Epoch[1] Validation-cross-entropy=0.139580\n",
      "2022-08-05 22:40:53,286 [INFO]  Epoch[1] Validation-CouncilArea-accuracy=0.962090\n",
      "2022-08-05 22:40:55,468 [INFO]  Epoch[2] Batch [0-275]\tSpeed: 2026.04 samples/sec\tcross-entropy=0.105538\tCouncilArea-accuracy=0.971467\n",
      "2022-08-05 22:40:57,587 [INFO]  Epoch[2] Train-cross-entropy=0.099885\n",
      "2022-08-05 22:40:57,587 [INFO]  Epoch[2] Train-CouncilArea-accuracy=0.973588\n",
      "2022-08-05 22:40:57,588 [INFO]  Epoch[2] Time cost=4.301\n",
      "2022-08-05 22:40:57,594 [INFO]  Saved checkpoint to \"imputer_model/model-0002.params\"\n",
      "2022-08-05 22:40:57,812 [INFO]  Epoch[2] Validation-cross-entropy=0.119521\n",
      "2022-08-05 22:40:57,813 [INFO]  Epoch[2] Validation-CouncilArea-accuracy=0.962090\n",
      "2022-08-05 22:41:00,040 [INFO]  Epoch[3] Batch [0-275]\tSpeed: 1984.29 samples/sec\tcross-entropy=0.081457\tCouncilArea-accuracy=0.975317\n",
      "2022-08-05 22:41:02,235 [INFO]  Epoch[3] Train-cross-entropy=0.078946\n",
      "2022-08-05 22:41:02,236 [INFO]  Epoch[3] Train-CouncilArea-accuracy=0.976207\n",
      "2022-08-05 22:41:02,236 [INFO]  Epoch[3] Time cost=4.423\n",
      "2022-08-05 22:41:02,242 [INFO]  Saved checkpoint to \"imputer_model/model-0003.params\"\n",
      "2022-08-05 22:41:02,427 [INFO]  Epoch[3] Validation-cross-entropy=0.111779\n",
      "2022-08-05 22:41:02,428 [INFO]  Epoch[3] Validation-CouncilArea-accuracy=0.966189\n",
      "2022-08-05 22:41:04,585 [INFO]  Epoch[4] Batch [0-275]\tSpeed: 2048.28 samples/sec\tcross-entropy=0.068778\tCouncilArea-accuracy=0.978714\n",
      "2022-08-05 22:41:06,737 [INFO]  Epoch[4] Train-cross-entropy=0.067312\n",
      "2022-08-05 22:41:06,737 [INFO]  Epoch[4] Train-CouncilArea-accuracy=0.978370\n",
      "2022-08-05 22:41:06,738 [INFO]  Epoch[4] Time cost=4.310\n",
      "2022-08-05 22:41:06,743 [INFO]  Saved checkpoint to \"imputer_model/model-0004.params\"\n",
      "2022-08-05 22:41:06,925 [INFO]  Epoch[4] Validation-cross-entropy=0.105934\n",
      "2022-08-05 22:41:06,926 [INFO]  Epoch[4] Validation-CouncilArea-accuracy=0.969262\n",
      "2022-08-05 22:41:09,107 [INFO]  Epoch[5] Batch [0-275]\tSpeed: 2025.27 samples/sec\tcross-entropy=0.059874\tCouncilArea-accuracy=0.980299\n",
      "2022-08-05 22:41:11,282 [INFO]  Epoch[5] Train-cross-entropy=0.059195\n",
      "2022-08-05 22:41:11,283 [INFO]  Epoch[5] Train-CouncilArea-accuracy=0.979850\n",
      "2022-08-05 22:41:11,283 [INFO]  Epoch[5] Time cost=4.357\n",
      "2022-08-05 22:41:11,290 [INFO]  Saved checkpoint to \"imputer_model/model-0005.params\"\n",
      "2022-08-05 22:41:11,475 [INFO]  Epoch[5] Validation-cross-entropy=0.100306\n",
      "2022-08-05 22:41:11,476 [INFO]  Epoch[5] Validation-CouncilArea-accuracy=0.969262\n",
      "2022-08-05 22:41:13,669 [INFO]  Epoch[6] Batch [0-275]\tSpeed: 2015.00 samples/sec\tcross-entropy=0.054522\tCouncilArea-accuracy=0.982563\n",
      "2022-08-05 22:41:15,848 [INFO]  Epoch[6] Train-cross-entropy=0.054094\n",
      "2022-08-05 22:41:15,849 [INFO]  Epoch[6] Train-CouncilArea-accuracy=0.981444\n",
      "2022-08-05 22:41:15,849 [INFO]  Epoch[6] Time cost=4.373\n",
      "2022-08-05 22:41:15,855 [INFO]  Saved checkpoint to \"imputer_model/model-0006.params\"\n",
      "2022-08-05 22:41:16,071 [INFO]  Epoch[6] Validation-cross-entropy=0.091790\n",
      "2022-08-05 22:41:16,071 [INFO]  Epoch[6] Validation-CouncilArea-accuracy=0.973361\n",
      "2022-08-05 22:41:18,316 [INFO]  Epoch[7] Batch [0-275]\tSpeed: 1968.81 samples/sec\tcross-entropy=0.049396\tCouncilArea-accuracy=0.983696\n",
      "2022-08-05 22:41:20,507 [INFO]  Epoch[7] Train-cross-entropy=0.053093\n",
      "2022-08-05 22:41:20,507 [INFO]  Epoch[7] Train-CouncilArea-accuracy=0.982354\n",
      "2022-08-05 22:41:20,508 [INFO]  Epoch[7] Time cost=4.436\n",
      "2022-08-05 22:41:20,513 [INFO]  Saved checkpoint to \"imputer_model/model-0007.params\"\n",
      "2022-08-05 22:41:20,698 [INFO]  Epoch[7] Validation-cross-entropy=0.082409\n",
      "2022-08-05 22:41:20,698 [INFO]  Epoch[7] Validation-CouncilArea-accuracy=0.975410\n",
      "2022-08-05 22:41:22,893 [INFO]  Epoch[8] Batch [0-275]\tSpeed: 2012.84 samples/sec\tcross-entropy=0.046641\tCouncilArea-accuracy=0.983922\n",
      "2022-08-05 22:41:25,072 [INFO]  Epoch[8] Train-cross-entropy=0.047998\n",
      "2022-08-05 22:41:25,072 [INFO]  Epoch[8] Train-CouncilArea-accuracy=0.982696\n",
      "2022-08-05 22:41:25,073 [INFO]  Epoch[8] Time cost=4.374\n",
      "2022-08-05 22:41:25,079 [INFO]  Saved checkpoint to \"imputer_model/model-0008.params\"\n",
      "2022-08-05 22:41:25,263 [INFO]  Epoch[8] Validation-cross-entropy=0.107178\n",
      "2022-08-05 22:41:25,263 [INFO]  Epoch[8] Validation-CouncilArea-accuracy=0.972336\n",
      "2022-08-05 22:41:27,490 [INFO]  Epoch[9] Batch [0-275]\tSpeed: 1983.91 samples/sec\tcross-entropy=0.048724\tCouncilArea-accuracy=0.981658\n",
      "2022-08-05 22:41:29,697 [INFO]  Epoch[9] Train-cross-entropy=0.049604\n",
      "2022-08-05 22:41:29,698 [INFO]  Epoch[9] Train-CouncilArea-accuracy=0.982240\n",
      "2022-08-05 22:41:29,698 [INFO]  Epoch[9] Time cost=4.434\n",
      "2022-08-05 22:41:29,704 [INFO]  Saved checkpoint to \"imputer_model/model-0009.params\"\n",
      "2022-08-05 22:41:29,889 [INFO]  Epoch[9] Validation-cross-entropy=0.091155\n",
      "2022-08-05 22:41:29,890 [INFO]  Epoch[9] Validation-CouncilArea-accuracy=0.979508\n",
      "2022-08-05 22:41:32,105 [INFO]  Epoch[10] Batch [0-275]\tSpeed: 1994.06 samples/sec\tcross-entropy=0.050267\tCouncilArea-accuracy=0.985734\n"
     ]
    },
    {
     "name": "stderr",
     "output_type": "stream",
     "text": [
      "2022-08-05 22:41:34,342 [INFO]  Epoch[10] Train-cross-entropy=0.044840\n",
      "2022-08-05 22:41:34,342 [INFO]  Epoch[10] Train-CouncilArea-accuracy=0.985087\n",
      "2022-08-05 22:41:34,343 [INFO]  Epoch[10] Time cost=4.453\n",
      "2022-08-05 22:41:34,349 [INFO]  Saved checkpoint to \"imputer_model/model-0010.params\"\n",
      "2022-08-05 22:41:34,535 [INFO]  Epoch[10] Validation-cross-entropy=0.111105\n",
      "2022-08-05 22:41:34,536 [INFO]  Epoch[10] Validation-CouncilArea-accuracy=0.974385\n",
      "2022-08-05 22:41:36,792 [INFO]  Epoch[11] Batch [0-275]\tSpeed: 1958.36 samples/sec\tcross-entropy=0.037764\tCouncilArea-accuracy=0.986639\n",
      "2022-08-05 22:41:39,011 [INFO]  Epoch[11] Train-cross-entropy=0.037502\n",
      "2022-08-05 22:41:39,012 [INFO]  Epoch[11] Train-CouncilArea-accuracy=0.986794\n",
      "2022-08-05 22:41:39,012 [INFO]  Epoch[11] Time cost=4.476\n",
      "2022-08-05 22:41:39,017 [INFO]  Saved checkpoint to \"imputer_model/model-0011.params\"\n",
      "2022-08-05 22:41:39,206 [INFO]  Epoch[11] Validation-cross-entropy=0.095480\n",
      "2022-08-05 22:41:39,207 [INFO]  Epoch[11] Validation-CouncilArea-accuracy=0.976434\n",
      "2022-08-05 22:41:41,457 [INFO]  Epoch[12] Batch [0-275]\tSpeed: 1963.95 samples/sec\tcross-entropy=0.040549\tCouncilArea-accuracy=0.985507\n",
      "2022-08-05 22:41:43,665 [INFO]  Epoch[12] Train-cross-entropy=0.036534\n",
      "2022-08-05 22:41:43,665 [INFO]  Epoch[12] Train-CouncilArea-accuracy=0.986566\n",
      "2022-08-05 22:41:43,665 [INFO]  Epoch[12] Time cost=4.458\n",
      "2022-08-05 22:41:43,671 [INFO]  Saved checkpoint to \"imputer_model/model-0012.params\"\n",
      "2022-08-05 22:41:43,858 [INFO]  No improvement detected for 5 epochs compared to 0.08240868203861058 last error obtained: 0.09809422003368648, stopping here\n",
      "2022-08-05 22:41:43,858 [INFO]  \n",
      "========== done (59.552546977996826 s) fit model\n"
     ]
    },
    {
     "name": "stdout",
     "output_type": "stream",
     "text": [
      "weighted_f1 : 0.9784770440916246 \n",
      " avg_precision : 0.9574437467473303\n"
     ]
    }
   ],
   "source": [
    "# Custom imputation model for CouncilArea \n",
    "imputer_CouncilArea = datawig.SimpleImputer(\n",
    "    input_columns=['Suburb', 'Rooms', 'Type', 'Price', 'Method', 'SellerG', 'Distance',\n",
    "                   'Bedroom2', 'Bathroom', 'Car', 'Landsize', 'BuildingArea', 'YearBuilt',\n",
    "                   'Lattitude', 'Longtitude', 'Regionname','Propertycount'], \n",
    "    output_column= 'CouncilArea', \n",
    "    output_path = 'imputer_model'\n",
    "    )\n",
    "\n",
    "# Fit model and predict on test set\n",
    "imputer_CouncilArea.fit(train_df=df_train, num_epochs=50)\n",
    "predictions = imputer_CouncilArea.predict(df_test)\n",
    "\n",
    "# Calculate metrics - datawig provides its own metrics for categorical variables\n",
    "metrics = imputer_CouncilArea.load_metrics()\n",
    "weighted_f1 = metrics['weighted_f1']\n",
    "avg_precision = metrics['avg_precision']\n",
    "print(\"weighted_f1 :\", weighted_f1, \"\\n\", \"avg_precision :\", avg_precision)"
   ]
  },
  {
   "cell_type": "markdown",
   "id": "124242d6",
   "metadata": {},
   "source": [
    "### Test 2\n",
    "Running a custom imputation model with all columns as inputs. All columns were converted to type object."
   ]
  },
  {
   "cell_type": "code",
   "execution_count": 8,
   "id": "858feda3",
   "metadata": {},
   "outputs": [],
   "source": [
    "for col in df:\n",
    "   df[col] = df[col].astype(str)\n",
    "\n",
    "# Convert \"nan\" back to np.nan\n",
    "for col in df:\n",
    "  if df[col].str.contains(\"nan\").any():\n",
    "    df[col].replace(\"nan\", np.nan, inplace=True)"
   ]
  },
  {
   "cell_type": "code",
   "execution_count": 9,
   "id": "a531d946",
   "metadata": {},
   "outputs": [],
   "source": [
    "# Split data for SimpleImputer \n",
    "df_train, df_test = datawig.utils.random_split(df)"
   ]
  },
  {
   "cell_type": "code",
   "execution_count": 10,
   "id": "61a7f95f",
   "metadata": {},
   "outputs": [
    {
     "name": "stdout",
     "output_type": "stream",
     "text": [
      "weighted_f1 : 0.9810940777061792 \n",
      " avg_precision : 0.9363669560504246\n"
     ]
    }
   ],
   "source": [
    "# Custom imputation model for CouncilArea \n",
    "imputer_CouncilArea = datawig.SimpleImputer(\n",
    "    input_columns=['Suburb', 'Rooms', 'Type', 'Price', 'Method', 'SellerG', 'Distance',\n",
    "                   'Bedroom2', 'Bathroom', 'Car', 'Landsize', 'BuildingArea', 'YearBuilt',\n",
    "                   'Lattitude', 'Longtitude', 'Regionname','Propertycount'], \n",
    "    output_column= 'CouncilArea', \n",
    "    output_path = 'imputer_model'\n",
    "    )\n",
    "\n",
    "# Fit model and predict on test set\n",
    "imputer_CouncilArea.fit(train_df=df_train, num_epochs=50)\n",
    "predictions = imputer_CouncilArea.predict(df_test)\n",
    "\n",
    "# Calculate metrics - datawig provides its own metrics for categorical variables\n",
    "metrics = imputer_CouncilArea.load_metrics()\n",
    "weighted_f1 = metrics['weighted_f1']\n",
    "avg_precision = metrics['avg_precision']\n",
    "print(\"weighted_f1 :\", weighted_f1, \"\\n\", \"avg_precision :\", avg_precision)"
   ]
  },
  {
   "cell_type": "markdown",
   "id": "fab10e5c",
   "metadata": {},
   "source": [
    "# Conclusions: \n",
    "- `SimpleImputer.complete()` will return an error if columns with type category exist in the dataset\n",
    "- `SimpleImputer.complete()` will not work properly if numeric columns are converted to type object\n",
    "- `SimpleImputer.complete()` will not impute categorical columns unless missingness is very low\n",
    "<br>\n",
    "For custom imputation models, converting numeric columns to type object showed inconsistent results. Sometimes precision was higher and sometimes lower, but the difference was small. Finally, as with any imputation method, the higher the column missingness the worst the results.\n",
    "<br>\n",
    "\n",
    "How datawig behaves with datetime columns? That's a problem for future Homer. Man I don't envy that guy.\n"
   ]
  }
 ],
 "metadata": {
  "kernelspec": {
   "display_name": "Python 3 (ipykernel)",
   "language": "python",
   "name": "python3"
  },
  "language_info": {
   "codemirror_mode": {
    "name": "ipython",
    "version": 3
   },
   "file_extension": ".py",
   "mimetype": "text/x-python",
   "name": "python",
   "nbconvert_exporter": "python",
   "pygments_lexer": "ipython3",
   "version": "3.10.4"
  }
 },
 "nbformat": 4,
 "nbformat_minor": 5
}
